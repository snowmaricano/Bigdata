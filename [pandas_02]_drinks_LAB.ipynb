{
  "nbformat": 4,
  "nbformat_minor": 0,
  "metadata": {
    "colab": {
      "provenance": [],
      "toc_visible": true,
      "include_colab_link": true
    },
    "kernelspec": {
      "name": "python3",
      "display_name": "Python 3"
    },
    "language_info": {
      "name": "python"
    }
  },
  "cells": [
    {
      "cell_type": "markdown",
      "metadata": {
        "id": "view-in-github",
        "colab_type": "text"
      },
      "source": [
        "<a href=\"https://colab.research.google.com/github/snowmaricano/Bigdata/blob/main/%5Bpandas_02%5D_drinks_LAB.ipynb\" target=\"_parent\"><img src=\"https://colab.research.google.com/assets/colab-badge.svg\" alt=\"Open In Colab\"/></a>"
      ]
    },
    {
      "cell_type": "markdown",
      "metadata": {
        "id": "FoQCjPqRO3Xs"
      },
      "source": [
        "## 1.파일 다운로드"
      ]
    },
    {
      "cell_type": "code",
      "metadata": {
        "colab": {
          "base_uri": "https://localhost:8080/"
        },
        "id": "VJ_EjQkDVhOx",
        "outputId": "dab3c770-e2d9-454a-ba4a-f050c7263023"
      },
      "source": [
        "!git clone https://github.com/Soyoung-Yoon/data_01"
      ],
      "execution_count": null,
      "outputs": [
        {
          "output_type": "stream",
          "name": "stdout",
          "text": [
            "Cloning into 'data_01'...\n",
            "remote: Enumerating objects: 17, done.\u001b[K\n",
            "remote: Counting objects: 100% (17/17), done.\u001b[K\n",
            "remote: Compressing objects: 100% (17/17), done.\u001b[K\n",
            "remote: Total 17 (delta 3), reused 0 (delta 0), pack-reused 0\u001b[K\n",
            "Unpacking objects: 100% (17/17), done.\n"
          ]
        }
      ]
    },
    {
      "cell_type": "markdown",
      "metadata": {
        "id": "zfb0qkWpO7IV"
      },
      "source": [
        "## 2.Colab에서 한글 폰트 사용하기"
      ]
    },
    {
      "cell_type": "code",
      "source": [
        "### [230417]변경안내\n",
        "# colab에서 matplotlib의 버전이 변경되면서\n",
        "# koreanize_matplotlib 사용이 가능해 졌습니다.\n",
        "# 아래의 설치 후, import koreanize_matplotlib 를 한 뒤 사용하시면 됩니다."
      ],
      "metadata": {
        "id": "U0s0FpQ_gRVC"
      },
      "execution_count": null,
      "outputs": []
    },
    {
      "cell_type": "code",
      "source": [
        "!pip install koreanize-matplotlib"
      ],
      "metadata": {
        "id": "gjiO9RAAgRRe"
      },
      "execution_count": null,
      "outputs": []
    },
    {
      "cell_type": "code",
      "source": [
        "# 사용 예시!\n",
        "import matplotlib.pyplot as plt\n",
        "import koreanize_matplotlib\n",
        "plt.figure(figsize=(4,3))\n",
        "plt.plot([-1, 0, 1, 2])\n",
        "plt.xlabel('간단한 그래프')\n",
        "plt.show()"
      ],
      "metadata": {
        "id": "jb6q7McwgRET"
      },
      "execution_count": null,
      "outputs": []
    },
    {
      "cell_type": "markdown",
      "metadata": {
        "id": "t0nz_RV3PBCm"
      },
      "source": [
        "## 3.알코올을 가장 많이 마시는 나라는?"
      ]
    },
    {
      "cell_type": "markdown",
      "metadata": {
        "id": "_Yi4kx6jREog"
      },
      "source": [
        "- country\t: 국가명\n",
        "- beer_servings : 맥주 소비량\n",
        "- spirit_servings : 증류주 소비량(독주, 알코올 함량 20% 이상의 설탕을 첨가하지 않은 증류주)\n",
        "- wine_servings : 와인 소비량\n",
        "- total_litres_of_pure_alcohol : 순수 알코올\n",
        "- continent : 대륙"
      ]
    },
    {
      "cell_type": "code",
      "metadata": {
        "id": "bsM_1HIdWyFL"
      },
      "source": [
        "# [2-0] 사용라이브러리 import\n"
      ],
      "execution_count": null,
      "outputs": []
    },
    {
      "cell_type": "markdown",
      "metadata": {
        "id": "SozIW1fDPRSN"
      },
      "source": [
        "### 3-1. 파일 가져오기\n",
        "csv 파일 가져오기\n",
        "- csv 파일은 컬럼 구분이 콤마(,) 로 이루어진 파일\n",
        "- df = pd.read_csv(파일이름) : csv 형식의 파일을 읽어 DataFrame 객체로 가져옴\n",
        "- DataFrame.to_csv(파일이름, index=True) : DataFrame을 csv 파일로 저장, index는 제외하고 저장하기 위해서는 index=False로 지정"
      ]
    },
    {
      "cell_type": "code",
      "metadata": {
        "id": "X1KA3tPHOfkO"
      },
      "source": [
        "# [2-1] drinks.csv 파일을 DataFrame으로 불러오기 합니다.\n"
      ],
      "execution_count": null,
      "outputs": []
    },
    {
      "cell_type": "code",
      "metadata": {
        "id": "ju0THHi4QJ4s"
      },
      "source": [
        "# [2-2] df의 데이터 모습을 확인하기 위해 첫 5개 데이터를 출력합니다\n"
      ],
      "execution_count": null,
      "outputs": []
    },
    {
      "cell_type": "code",
      "metadata": {
        "id": "GcAfMsIbTmAt"
      },
      "source": [
        "# [2-3] df의 컬럼명을 한글로 변경합니다.\n",
        "# ['국가', '맥주', '증류주', '와인', '알코올','대륙']\n",
        "df.columns =\n",
        "\n",
        "# 변경되었는지 확인합니다.\n"
      ],
      "execution_count": null,
      "outputs": []
    },
    {
      "cell_type": "code",
      "metadata": {
        "id": "izORGtRAV1W6"
      },
      "source": [
        "# [2-4] df의 row의 개수 및 각 column의 정보 및 메모리 사용량을 확인합니다.\n"
      ],
      "execution_count": null,
      "outputs": []
    },
    {
      "cell_type": "code",
      "metadata": {
        "id": "-PhjSydDDt8B"
      },
      "source": [
        "# '대륙'에 대한 정보가 부족한 것을 확인할 수 있습니다.\n",
        "# 이유가 무엇일까요? 어떻게 해결할 수 있을까요?"
      ],
      "execution_count": null,
      "outputs": []
    },
    {
      "cell_type": "code",
      "metadata": {
        "id": "juof9tYSwoRq"
      },
      "source": [
        "# drinks.csv 파일을 열어 원인을 확인하여 보도록 합니다."
      ],
      "execution_count": null,
      "outputs": []
    },
    {
      "cell_type": "markdown",
      "metadata": {
        "id": "i_xeHdBAWlIP"
      },
      "source": [
        "대륙의 종류\n",
        "- 아시아, 유럽, 아프리카, 북아메리카, 남아메리카, 오세아니아\n",
        "- AS, EU, AF, NA, SA, OC"
      ]
    },
    {
      "cell_type": "markdown",
      "metadata": {
        "id": "lSFsQuDUhep6"
      },
      "source": [
        "### 3-2. 결측치 확인 및 해결\n",
        "결측치\n",
        "- 값이 없음을 나타냄\n",
        "- NaN, NaT, None 등으로 표기되며, NA Value, Missing Value 라고 함\n",
        "\n",
        "결측치 확인\n",
        "   - DataFrame.isna() : 결측치에 대해 True, 아니면 False\n",
        "   - DataFrame.isnull() : DataFrame.isna()와 동일함\n",
        "   - DataFrame.notna() : 결측치가 아닌 것에 대해 True, 결측치면 False\n",
        "   - DataFrame.notnull() : DataFrame.isnull()과 동일함\n",
        "   - Series에도 결측치 확인을 위한 isna() ~ notnull()의 메서드 있음\n",
        "\n",
        "\n",
        "- DataFrame.isna().sum() : 결측치에 대해 컬럼별 개수\n",
        "\n"
      ]
    },
    {
      "cell_type": "markdown",
      "metadata": {
        "id": "WCr8mkN0KeHc"
      },
      "source": [
        "데이터 종류 확인\n",
        "- 주로 범주형 데이터에 사용함\n",
        "    - 성별, 지역, 부서 등의 몇 개의 그룹으로 표현되는 데이터\n",
        "    - 숫자 또는 문자열로 표현 될 수 있음\n",
        "- Series.unique() : **결측치를 포함**하며, 중복을 제외한 데이터의 종류를 ndarray로 반환\n",
        "- Series.value_counts() : **결측치를 포함하지 않으며**, 데이터 종류별 개수를 Series로 반환"
      ]
    },
    {
      "cell_type": "code",
      "metadata": {
        "id": "_oWlFxXQVpXe"
      },
      "source": [
        "# [2-5] 대륙의 종류를 알아봅니다\n",
        "# 결과를 보면 csv파일에서 'NA'로 되어 있는 데이터를 NaN(=nan)으로 가져온 것입니다.\n"
      ],
      "execution_count": null,
      "outputs": []
    },
    {
      "cell_type": "code",
      "metadata": {
        "id": "danUv_sqNV4s"
      },
      "source": [
        "# [2-6] 대륙별 개수를 알아봅니다.\n"
      ],
      "execution_count": null,
      "outputs": []
    },
    {
      "cell_type": "code",
      "metadata": {
        "id": "6vJbEvUOebrB"
      },
      "source": [
        "# [2-7] 결측치를 컬럼 별로 집계해 봅니다.\n"
      ],
      "execution_count": null,
      "outputs": []
    },
    {
      "cell_type": "code",
      "metadata": {
        "id": "8icZF7VCVpIe"
      },
      "source": [
        "# [2-8] isna()를 사용해 대륙에서 결측치로 취급된 데이터만 출력해 봅니다\n",
        "# 북아메리카(NA)에 포함되는 국가들인 것을 확인할 수 있습니다.\n"
      ],
      "execution_count": null,
      "outputs": []
    },
    {
      "cell_type": "markdown",
      "metadata": {
        "id": "ktAXpj5kTdWo"
      },
      "source": [
        "결측치 해결방법\n",
        "- pd.read_csv(파일이름, na_filter=False) : NA를 NaN(결측치)로 읽는 동작을 멈추게 합니다.\n",
        "- 옵션 확인 : https://pandas.pydata.org/pandas-docs/stable/reference/api/pandas.read_csv.htm\n",
        "- DataFrame.fillna(값) : 결측값을 특정 값으로 채우기 합니다.\n",
        "- Series.fillna(값) : 결측값을 특정 값으로 채우기 합니다.\n",
        "    - 연속형 데이터 : 0으로 채우기, 평균값으로 채우기, 범주별 평균값 채우기 등\n",
        "    - 범주형 데이터 : 다른 범주로 만들어 채우기\n",
        "- DataFrame.loc[Series.isna(), 컬럼명] = 값"
      ]
    },
    {
      "cell_type": "code",
      "metadata": {
        "id": "ndYLjYBYdEcR"
      },
      "source": [
        "# [2-9] 해결방법 1\n",
        "# read_csv의 옵션을 사용하여 해결합니다.\n",
        "# read_csv에서 'NA'를 NaN으로 읽도록하는 동작을 멈추게 합니다.\n",
        "# na_filter=False 를 사용하면 NA를 NaN으로 읽지 않습니다.\n"
      ],
      "execution_count": null,
      "outputs": []
    },
    {
      "cell_type": "code",
      "metadata": {
        "id": "tZEaud4wd_MX"
      },
      "source": [
        "# [2-10] df2의 'continent' (대륙)에 포함된 값의 종류를 unique를 사용해 살펴 봅니다\n",
        "# NaN 대신 'NA'가 있는 것을 확인할 수 있습니다.\n"
      ],
      "execution_count": null,
      "outputs": []
    },
    {
      "cell_type": "code",
      "metadata": {
        "id": "noFadMHseJRN"
      },
      "source": [
        "# [2-10] 해결방법 2\n",
        "# NaN으로 읽어온 데이터를 'NA'로 변경합니다.\n"
      ],
      "execution_count": null,
      "outputs": []
    },
    {
      "cell_type": "code",
      "metadata": {
        "id": "Gr67L3ZnfKlp"
      },
      "source": [
        "# [2-11] 결측치가 제거 되었는지 컬럼 별 결측치 개수를 출력해 확인합니다.\n"
      ],
      "execution_count": null,
      "outputs": []
    },
    {
      "cell_type": "code",
      "metadata": {
        "id": "Yy46bQajRIIJ"
      },
      "source": [
        "# [2-12] unique()를 사용하여 '대륙'의 종류를 확인해 봅니다.\n"
      ],
      "execution_count": null,
      "outputs": []
    },
    {
      "cell_type": "markdown",
      "metadata": {
        "id": "mX3i4ZqhfEJl"
      },
      "source": [
        "### 3-3. 통계치 구하기\n",
        "- DataFrame.describe() : 숫자형 데이터타입을 갖는 컬럼에 대해 count, mean, std, min, max, Q1, Q2, Q3 등의 통계값 구하기\n",
        "- DataFrame.count() : 개수\n",
        "- DataFrame.sum() : 합계\n",
        "- DataFrame.mean() : 평균\n",
        "- DataFrame.std() : 표준편차\n",
        "- DataFrame.var() : 분산\n",
        "- DataFrame.quantile() : 분위수\n",
        "- DataFrame.함수(axis=1)을 사용하여 행별 통계값을 구할 수 있음\n",
        "   - axis=0 : 기본값이며, 행을 이동하며, 행과 행의 연산을 수행함\n",
        "   - axis=1 : 컬럼을 이동하며 컬럼과 컬럼의 연산을 수행함"
      ]
    },
    {
      "cell_type": "code",
      "metadata": {
        "id": "KF_cyKEjeJLS"
      },
      "source": [
        "# [2-13] describe 함수를 사용해 전세계 맥주, 증류주, 와인, 알코올 소비에 대한 통계치를 구해봅니다.\n"
      ],
      "execution_count": null,
      "outputs": []
    },
    {
      "cell_type": "code",
      "metadata": {
        "id": "jjll-JxhfX-D"
      },
      "source": [
        "# [2-14] 전세계 맥주, 증류주, 와인, 알코올 소비에 대한 정보만 추출하여 df2로 지정합니다.\n"
      ],
      "execution_count": null,
      "outputs": []
    },
    {
      "cell_type": "code",
      "metadata": {
        "id": "CmSMKvnth5I6"
      },
      "source": [
        "# [2-15] 전세계 맥주, 증류주, 와인, 알코올의 소비에 대한 (df2) '평균'만 구해봅니다.\n"
      ],
      "execution_count": null,
      "outputs": []
    },
    {
      "cell_type": "code",
      "metadata": {
        "id": "Ki8WzfBOuDKg"
      },
      "source": [
        "# [2-16] 전세계 맥주, 증류주, 와인, 알코올의 소비에 대한 (df2) '중앙값'만 구해봅니다.\n"
      ],
      "execution_count": null,
      "outputs": []
    },
    {
      "cell_type": "code",
      "metadata": {
        "id": "PO-teD4HiGPG"
      },
      "source": [
        "# [2-17] 전세계 맥주, 증류주, 와인, 알코올의 소비에 대한 '최대값'만 구해봅니다.\n"
      ],
      "execution_count": null,
      "outputs": []
    },
    {
      "cell_type": "code",
      "metadata": {
        "id": "M_ZDUIUCiLjr"
      },
      "source": [
        "# [2-18] 전세계 맥주, 증류주, 와인, 알코올의 소비에 대한 '최소값'만 구해봅니다.\n"
      ],
      "execution_count": null,
      "outputs": []
    },
    {
      "cell_type": "code",
      "metadata": {
        "id": "iq8P1DDyuGVw"
      },
      "source": [
        "# [2-19] 전세계 맥주, 증류주, 와인, 알코올의 소비에 대한 (df2) Q1, Q2, Q3를 구해봅니다.\n"
      ],
      "execution_count": null,
      "outputs": []
    },
    {
      "cell_type": "code",
      "metadata": {
        "id": "ZaeC4cX7uNR_"
      },
      "source": [
        "# 표준편차(std), 분산(var)에 대해서도 작업해 보세요 ^_^!!!"
      ],
      "execution_count": null,
      "outputs": []
    },
    {
      "cell_type": "code",
      "metadata": {
        "id": "biif-DTduPBE"
      },
      "source": [
        "# [2-20] df (object dtype이 존재함) 에 대해서 컬럼별 min을 구해 봅니다.\n",
        "# dtype이 object이 컬럼의 min은 오름차순 정렬시 가장 앞에 있는 것\n",
        "# dtype이 object이 컬럼의 max는 오름차순 정렬시 가장 뒤에 있는 것\n",
        "# 문자열 정렬시에는 문자의 코드값을 사용함 : ord(문자)\n",
        "\n"
      ],
      "execution_count": null,
      "outputs": []
    },
    {
      "cell_type": "markdown",
      "metadata": {
        "id": "46N1_d9WXyoL"
      },
      "source": [
        "각 컬럼 별 함수 적용\n",
        "- DataFrame.apply(함수) : Series로 결과가 반환됨\n",
        "- DataFrame.apply([함수1, 함수2, ...]) : DataFrame으로 결과가 반환됨\n",
        "- 사용자 정의 함수, 외부 함수, 내장 함수 등 다양한 함수를 사용할 수 있음\n",
        "- Series의 통계 함수들은 문자열 형태로 사용할 수 있음 : 'min', 'max', 'count', 'std', 'var', 'mean', 'median'"
      ]
    },
    {
      "cell_type": "code",
      "metadata": {
        "id": "ytd-SLyaCRsI"
      },
      "source": [
        "# [2-21] df2의 각 컬럼별 평균을 구해 봅니다.\n"
      ],
      "execution_count": null,
      "outputs": []
    },
    {
      "cell_type": "code",
      "metadata": {
        "id": "2-NQxNYJhtS-"
      },
      "source": [
        "# [2-22] df2의 최소, 최대, 평균값을 구해봅니다.\n"
      ],
      "execution_count": null,
      "outputs": []
    },
    {
      "cell_type": "markdown",
      "metadata": {
        "id": "Edwj1tnZhBTv"
      },
      "source": [
        "### 3-4. 주류 소비량 비교\n",
        "\n"
      ]
    },
    {
      "cell_type": "code",
      "metadata": {
        "id": "PBxhCeSdAB8-"
      },
      "source": [
        "# pandas의 max_rows, max_columns 설정\n",
        "pd.set_option('display.max_rows', 200)\n",
        "pd.set_option('display.max_columns', 10)\n",
        "# https://pandas.pydata.org/pandas-docs/stable/user_guide/options.html"
      ],
      "execution_count": null,
      "outputs": []
    },
    {
      "cell_type": "markdown",
      "metadata": {
        "id": "gHGS2KOz8Ovc"
      },
      "source": [
        "Series의 연산\n",
        "- Series 끼리 또는 Series와 스칼라는 다양한 연산을 할 수 있음\n",
        "- index에 맞춰 element wise 연산됨\n",
        "   - 산술연산(수치): +, -, *, /, //, %  \n",
        "   - 비교연산(True/False): >, <, >=, <=, ==, !=  \n",
        "   - True/False의 관계연산(True/False): &, |, ~  "
      ]
    },
    {
      "cell_type": "code",
      "metadata": {
        "id": "ZoRvXJLa-hfE"
      },
      "source": [
        "# [2-23] 와인 소비량이 맥주 + 증류주 소비량보다 큰 나라를 검색해,'대륙'을 기준으로 정렬해 보자\n"
      ],
      "execution_count": null,
      "outputs": []
    },
    {
      "cell_type": "code",
      "metadata": {
        "id": "Wqh9FXtK8seG"
      },
      "source": [
        "# [2-24] 맥주 소비량이 230 초과이면서, 와인 소비량이 230 초과인 나라를 검색해 보자\n"
      ],
      "execution_count": null,
      "outputs": []
    },
    {
      "cell_type": "code",
      "metadata": {
        "id": "MNQw899vAVs-"
      },
      "source": [
        "# [2-25] 대륙이 'AS'인 국가들의 정보를 검색해 보자\n"
      ],
      "execution_count": null,
      "outputs": []
    },
    {
      "cell_type": "markdown",
      "metadata": {
        "id": "hFftLnJ2VBn1"
      },
      "source": [
        "DataFrame에 새로운 컬럼 추가\n",
        "- DataFrame[컬럼명] = 데이터목록\n",
        "- 컬럼명은 기존 DataFrame에 존재하지 않는 이름이어야 함\n",
        "- 데이터목록은 DataFrame의 다른 컬럼들과 같은 개수이어야 하며 list, Series 등의 형태일 수 있음\n",
        "\n",
        "DataFrame의 컬럼 제거\n",
        "- del DataFrame[컬럼명]\n",
        "- DataFrame.drop(컬럼명, axis=1), DataFrame.drop([컬럼명1, 컬럼명2, ...], axis=1)\n",
        "- DataFrame.drop(columns=[컬럼명...])\n",
        "\n",
        "**아래의 내용이 수정되어 있습니다. ^_^**\n",
        "\n",
        "DataFrame의 행 제거\n",
        "- axis=0 이 기본값이므로 생략하여도 됨\n",
        "- DataFrame.drop(행이름), DataFrame.drop([행이름1, 행이름2, ...])\n",
        "- DataFrame.drop(rows=[행이름1, 행이름2 ...])"
      ]
    },
    {
      "cell_type": "code",
      "metadata": {
        "id": "NbCV_tDkKOZs"
      },
      "source": [
        "이런 ㅠ.........ㅠ   '행 제거'인데 영상 찍을 때 '열 제거'로 되어 있었습니다!"
      ],
      "execution_count": null,
      "outputs": []
    },
    {
      "cell_type": "code",
      "metadata": {
        "id": "qMPdpwvsTpZ7"
      },
      "source": [
        "# [2-26] 국가별 주류 소비량 합계를 구해 새로운 컬럼 ('주류소비량')를 추가합니다\n",
        "# 주류소비량 = '맥주' + '증류주' + '와인'\n"
      ],
      "execution_count": null,
      "outputs": []
    },
    {
      "cell_type": "code",
      "metadata": {
        "id": "zdrK1FxmvhUQ"
      },
      "source": [
        "# [2-27] 주류소비량2 = ['맥주', '증류주', '와인']에 대해 DataFrame.sum(axis=1) 함수 사용\n"
      ],
      "execution_count": null,
      "outputs": []
    },
    {
      "cell_type": "code",
      "metadata": {
        "id": "bqhPDJOWTqPg"
      },
      "source": [
        "# [2-28] 주류 소비량 대비 알코올 소비량 비율을 구해 새로운 컬럼 ('알코올비율')을 추가합니다.\n",
        "# 알코올비율 = '알코올' / '주류소비량'\n"
      ],
      "execution_count": null,
      "outputs": []
    },
    {
      "cell_type": "code",
      "metadata": {
        "id": "VmAnGYM_ZOui"
      },
      "source": [
        "# [2-29] 알코올비율이 높은 국가 TOP5의 ['국가', '주류소비량', '알코올비율'] 정보를 구해 봅니다.\n",
        "# HINT) sort_values, indexing 사용\n"
      ],
      "execution_count": null,
      "outputs": []
    },
    {
      "cell_type": "code",
      "metadata": {
        "id": "mUT4wPBr6dbx"
      },
      "source": [
        "# [2-30] '주류소비량2' 컬럼을 제거하여 봅니다.\n",
        "#df = df.drop('주류소비량2', axis=1)\n",
        "#df = df.drop(columns=['주류소비량2'])\n"
      ],
      "execution_count": null,
      "outputs": []
    },
    {
      "cell_type": "code",
      "metadata": {
        "id": "uNNvp_LyLoo2"
      },
      "source": [
        "# [2-31] '알코올비율'이 NaN인 것에 대해 0으로 채우기 합니다.\n"
      ],
      "execution_count": null,
      "outputs": []
    },
    {
      "cell_type": "markdown",
      "metadata": {
        "id": "ka0csViQwCvY"
      },
      "source": [
        "Columns, Index 상호 변경\n",
        "- DataFrame.set_index(컬럼명) : 지정한 컬럼을 index로 지정함\n",
        "- DataFrame.set_index([컬럼명1, 컬럼명2, ...]) : 컬럼 목록을 index(Multi Index)로 지정함\n",
        "    - columns에서 index 쪽으로 이동됨, 기존 index는 제거됨\n",
        "- DataFrame.reset_index() : 모든 index 가 columns로 이동됨\n",
        "    - index는 RangeIndex로 대체됨"
      ]
    },
    {
      "cell_type": "markdown",
      "metadata": {
        "id": "i4oYnBdPTf0K"
      },
      "source": [
        "![image.png](data:image/png;base64,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)"
      ]
    },
    {
      "cell_type": "code",
      "metadata": {
        "id": "dqIp1aVGSK9E"
      },
      "source": [
        "# [2-32] 국가별 주류 소비량 합계(맥주, 증류주, 와인의 합)를 구해 봅니다.\n"
      ],
      "execution_count": null,
      "outputs": []
    },
    {
      "cell_type": "code",
      "metadata": {
        "id": "WmoWy9mvxjzA",
        "colab": {
          "base_uri": "https://localhost:8080/",
          "height": 455
        },
        "outputId": "49fc0b53-2304-4805-b636-0e7ca170910a"
      },
      "source": [
        "# [2-33] df를 ['대륙', '국가']를 index로 지정하고, 대륙별, 국가명으로  정렬하여 df로 저장합니다.\n"
      ],
      "execution_count": null,
      "outputs": [
        {
          "output_type": "execute_result",
          "data": {
            "text/html": [
              "<div>\n",
              "<style scoped>\n",
              "    .dataframe tbody tr th:only-of-type {\n",
              "        vertical-align: middle;\n",
              "    }\n",
              "\n",
              "    .dataframe tbody tr th {\n",
              "        vertical-align: top;\n",
              "    }\n",
              "\n",
              "    .dataframe thead th {\n",
              "        text-align: right;\n",
              "    }\n",
              "</style>\n",
              "<table border=\"1\" class=\"dataframe\">\n",
              "  <thead>\n",
              "    <tr style=\"text-align: right;\">\n",
              "      <th></th>\n",
              "      <th></th>\n",
              "      <th>맥주</th>\n",
              "      <th>증류주</th>\n",
              "      <th>와인</th>\n",
              "      <th>알코올</th>\n",
              "      <th>주류소비량</th>\n",
              "      <th>알코올비율</th>\n",
              "    </tr>\n",
              "    <tr>\n",
              "      <th>대륙</th>\n",
              "      <th>국가</th>\n",
              "      <th></th>\n",
              "      <th></th>\n",
              "      <th></th>\n",
              "      <th></th>\n",
              "      <th></th>\n",
              "      <th></th>\n",
              "    </tr>\n",
              "  </thead>\n",
              "  <tbody>\n",
              "    <tr>\n",
              "      <th rowspan=\"5\" valign=\"top\">AF</th>\n",
              "      <th>Algeria</th>\n",
              "      <td>25</td>\n",
              "      <td>0</td>\n",
              "      <td>14</td>\n",
              "      <td>0.7</td>\n",
              "      <td>39</td>\n",
              "      <td>0.017949</td>\n",
              "    </tr>\n",
              "    <tr>\n",
              "      <th>Angola</th>\n",
              "      <td>217</td>\n",
              "      <td>57</td>\n",
              "      <td>45</td>\n",
              "      <td>5.9</td>\n",
              "      <td>319</td>\n",
              "      <td>0.018495</td>\n",
              "    </tr>\n",
              "    <tr>\n",
              "      <th>Benin</th>\n",
              "      <td>34</td>\n",
              "      <td>4</td>\n",
              "      <td>13</td>\n",
              "      <td>1.1</td>\n",
              "      <td>51</td>\n",
              "      <td>0.021569</td>\n",
              "    </tr>\n",
              "    <tr>\n",
              "      <th>Botswana</th>\n",
              "      <td>173</td>\n",
              "      <td>35</td>\n",
              "      <td>35</td>\n",
              "      <td>5.4</td>\n",
              "      <td>243</td>\n",
              "      <td>0.022222</td>\n",
              "    </tr>\n",
              "    <tr>\n",
              "      <th>Burkina Faso</th>\n",
              "      <td>25</td>\n",
              "      <td>7</td>\n",
              "      <td>7</td>\n",
              "      <td>4.3</td>\n",
              "      <td>39</td>\n",
              "      <td>0.110256</td>\n",
              "    </tr>\n",
              "    <tr>\n",
              "      <th>...</th>\n",
              "      <th>...</th>\n",
              "      <td>...</td>\n",
              "      <td>...</td>\n",
              "      <td>...</td>\n",
              "      <td>...</td>\n",
              "      <td>...</td>\n",
              "      <td>...</td>\n",
              "    </tr>\n",
              "    <tr>\n",
              "      <th rowspan=\"5\" valign=\"top\">SA</th>\n",
              "      <th>Paraguay</th>\n",
              "      <td>213</td>\n",
              "      <td>117</td>\n",
              "      <td>74</td>\n",
              "      <td>7.3</td>\n",
              "      <td>404</td>\n",
              "      <td>0.018069</td>\n",
              "    </tr>\n",
              "    <tr>\n",
              "      <th>Peru</th>\n",
              "      <td>163</td>\n",
              "      <td>160</td>\n",
              "      <td>21</td>\n",
              "      <td>6.1</td>\n",
              "      <td>344</td>\n",
              "      <td>0.017733</td>\n",
              "    </tr>\n",
              "    <tr>\n",
              "      <th>Suriname</th>\n",
              "      <td>128</td>\n",
              "      <td>178</td>\n",
              "      <td>7</td>\n",
              "      <td>5.6</td>\n",
              "      <td>313</td>\n",
              "      <td>0.017891</td>\n",
              "    </tr>\n",
              "    <tr>\n",
              "      <th>Uruguay</th>\n",
              "      <td>115</td>\n",
              "      <td>35</td>\n",
              "      <td>220</td>\n",
              "      <td>6.6</td>\n",
              "      <td>370</td>\n",
              "      <td>0.017838</td>\n",
              "    </tr>\n",
              "    <tr>\n",
              "      <th>Venezuela</th>\n",
              "      <td>333</td>\n",
              "      <td>100</td>\n",
              "      <td>3</td>\n",
              "      <td>7.7</td>\n",
              "      <td>436</td>\n",
              "      <td>0.017661</td>\n",
              "    </tr>\n",
              "  </tbody>\n",
              "</table>\n",
              "<p>193 rows × 6 columns</p>\n",
              "</div>"
            ],
            "text/plain": [
              "                  맥주  증류주   와인  알코올  주류소비량     알코올비율\n",
              "대륙 국가                                               \n",
              "AF Algeria        25    0   14  0.7     39  0.017949\n",
              "   Angola        217   57   45  5.9    319  0.018495\n",
              "   Benin          34    4   13  1.1     51  0.021569\n",
              "   Botswana      173   35   35  5.4    243  0.022222\n",
              "   Burkina Faso   25    7    7  4.3     39  0.110256\n",
              "...              ...  ...  ...  ...    ...       ...\n",
              "SA Paraguay      213  117   74  7.3    404  0.018069\n",
              "   Peru          163  160   21  6.1    344  0.017733\n",
              "   Suriname      128  178    7  5.6    313  0.017891\n",
              "   Uruguay       115   35  220  6.6    370  0.017838\n",
              "   Venezuela     333  100    3  7.7    436  0.017661\n",
              "\n",
              "[193 rows x 6 columns]"
            ]
          },
          "metadata": {},
          "execution_count": 15
        }
      ]
    },
    {
      "cell_type": "code",
      "metadata": {
        "id": "_zk8BhCyLKi8",
        "colab": {
          "base_uri": "https://localhost:8080/",
          "height": 423
        },
        "outputId": "05ab737a-177d-4074-b615-23afc50955fb"
      },
      "source": [
        "# [2-34] df의 index를 모두 columns로 이동합니다.\n"
      ],
      "execution_count": null,
      "outputs": [
        {
          "output_type": "execute_result",
          "data": {
            "text/html": [
              "<div>\n",
              "<style scoped>\n",
              "    .dataframe tbody tr th:only-of-type {\n",
              "        vertical-align: middle;\n",
              "    }\n",
              "\n",
              "    .dataframe tbody tr th {\n",
              "        vertical-align: top;\n",
              "    }\n",
              "\n",
              "    .dataframe thead th {\n",
              "        text-align: right;\n",
              "    }\n",
              "</style>\n",
              "<table border=\"1\" class=\"dataframe\">\n",
              "  <thead>\n",
              "    <tr style=\"text-align: right;\">\n",
              "      <th></th>\n",
              "      <th>대륙</th>\n",
              "      <th>국가</th>\n",
              "      <th>맥주</th>\n",
              "      <th>증류주</th>\n",
              "      <th>와인</th>\n",
              "      <th>알코올</th>\n",
              "      <th>주류소비량</th>\n",
              "      <th>알코올비율</th>\n",
              "    </tr>\n",
              "  </thead>\n",
              "  <tbody>\n",
              "    <tr>\n",
              "      <th>0</th>\n",
              "      <td>AF</td>\n",
              "      <td>Algeria</td>\n",
              "      <td>25</td>\n",
              "      <td>0</td>\n",
              "      <td>14</td>\n",
              "      <td>0.7</td>\n",
              "      <td>39</td>\n",
              "      <td>0.017949</td>\n",
              "    </tr>\n",
              "    <tr>\n",
              "      <th>1</th>\n",
              "      <td>AF</td>\n",
              "      <td>Angola</td>\n",
              "      <td>217</td>\n",
              "      <td>57</td>\n",
              "      <td>45</td>\n",
              "      <td>5.9</td>\n",
              "      <td>319</td>\n",
              "      <td>0.018495</td>\n",
              "    </tr>\n",
              "    <tr>\n",
              "      <th>2</th>\n",
              "      <td>AF</td>\n",
              "      <td>Benin</td>\n",
              "      <td>34</td>\n",
              "      <td>4</td>\n",
              "      <td>13</td>\n",
              "      <td>1.1</td>\n",
              "      <td>51</td>\n",
              "      <td>0.021569</td>\n",
              "    </tr>\n",
              "    <tr>\n",
              "      <th>3</th>\n",
              "      <td>AF</td>\n",
              "      <td>Botswana</td>\n",
              "      <td>173</td>\n",
              "      <td>35</td>\n",
              "      <td>35</td>\n",
              "      <td>5.4</td>\n",
              "      <td>243</td>\n",
              "      <td>0.022222</td>\n",
              "    </tr>\n",
              "    <tr>\n",
              "      <th>4</th>\n",
              "      <td>AF</td>\n",
              "      <td>Burkina Faso</td>\n",
              "      <td>25</td>\n",
              "      <td>7</td>\n",
              "      <td>7</td>\n",
              "      <td>4.3</td>\n",
              "      <td>39</td>\n",
              "      <td>0.110256</td>\n",
              "    </tr>\n",
              "    <tr>\n",
              "      <th>...</th>\n",
              "      <td>...</td>\n",
              "      <td>...</td>\n",
              "      <td>...</td>\n",
              "      <td>...</td>\n",
              "      <td>...</td>\n",
              "      <td>...</td>\n",
              "      <td>...</td>\n",
              "      <td>...</td>\n",
              "    </tr>\n",
              "    <tr>\n",
              "      <th>188</th>\n",
              "      <td>SA</td>\n",
              "      <td>Paraguay</td>\n",
              "      <td>213</td>\n",
              "      <td>117</td>\n",
              "      <td>74</td>\n",
              "      <td>7.3</td>\n",
              "      <td>404</td>\n",
              "      <td>0.018069</td>\n",
              "    </tr>\n",
              "    <tr>\n",
              "      <th>189</th>\n",
              "      <td>SA</td>\n",
              "      <td>Peru</td>\n",
              "      <td>163</td>\n",
              "      <td>160</td>\n",
              "      <td>21</td>\n",
              "      <td>6.1</td>\n",
              "      <td>344</td>\n",
              "      <td>0.017733</td>\n",
              "    </tr>\n",
              "    <tr>\n",
              "      <th>190</th>\n",
              "      <td>SA</td>\n",
              "      <td>Suriname</td>\n",
              "      <td>128</td>\n",
              "      <td>178</td>\n",
              "      <td>7</td>\n",
              "      <td>5.6</td>\n",
              "      <td>313</td>\n",
              "      <td>0.017891</td>\n",
              "    </tr>\n",
              "    <tr>\n",
              "      <th>191</th>\n",
              "      <td>SA</td>\n",
              "      <td>Uruguay</td>\n",
              "      <td>115</td>\n",
              "      <td>35</td>\n",
              "      <td>220</td>\n",
              "      <td>6.6</td>\n",
              "      <td>370</td>\n",
              "      <td>0.017838</td>\n",
              "    </tr>\n",
              "    <tr>\n",
              "      <th>192</th>\n",
              "      <td>SA</td>\n",
              "      <td>Venezuela</td>\n",
              "      <td>333</td>\n",
              "      <td>100</td>\n",
              "      <td>3</td>\n",
              "      <td>7.7</td>\n",
              "      <td>436</td>\n",
              "      <td>0.017661</td>\n",
              "    </tr>\n",
              "  </tbody>\n",
              "</table>\n",
              "<p>193 rows × 8 columns</p>\n",
              "</div>"
            ],
            "text/plain": [
              "     대륙            국가   맥주  증류주   와인  알코올  주류소비량     알코올비율\n",
              "0    AF       Algeria   25    0   14  0.7     39  0.017949\n",
              "1    AF        Angola  217   57   45  5.9    319  0.018495\n",
              "2    AF         Benin   34    4   13  1.1     51  0.021569\n",
              "3    AF      Botswana  173   35   35  5.4    243  0.022222\n",
              "4    AF  Burkina Faso   25    7    7  4.3     39  0.110256\n",
              "..   ..           ...  ...  ...  ...  ...    ...       ...\n",
              "188  SA      Paraguay  213  117   74  7.3    404  0.018069\n",
              "189  SA          Peru  163  160   21  6.1    344  0.017733\n",
              "190  SA      Suriname  128  178    7  5.6    313  0.017891\n",
              "191  SA       Uruguay  115   35  220  6.6    370  0.017838\n",
              "192  SA     Venezuela  333  100    3  7.7    436  0.017661\n",
              "\n",
              "[193 rows x 8 columns]"
            ]
          },
          "metadata": {},
          "execution_count": 16
        }
      ]
    },
    {
      "cell_type": "code",
      "metadata": {
        "id": "JgP_duXpvKp8"
      },
      "source": [
        "# [2-35] 전세계 평균 소비량과 한국('South Korea')의 소비량을 비교해 보려고 합니다.\n",
        "# 먼저, 한국의 소비량을 조회하여 korea로 저장합니다.\n",
        "korea =\n",
        "korea"
      ],
      "execution_count": null,
      "outputs": []
    },
    {
      "cell_type": "markdown",
      "metadata": {
        "id": "ZnF6MuRyP_iE"
      },
      "source": [
        "DataFrame에서 특정 행, 열 제거\n",
        "- DataFrame.drop(행, axis=0)\n",
        "- DataFrame.drop([행1, 행2, ...], axis=0)\n",
        "- DataFrame.drop(열, axis=1)\n",
        "- DataFrame.drop([열1, 열2, ...], axis=1)\n",
        "- indexing을 사용하여, 제거할 정보가 아닌 필요한 정보를 가져오기 하여 특정 행/열 제거"
      ]
    },
    {
      "cell_type": "code",
      "metadata": {
        "colab": {
          "base_uri": "https://localhost:8080/",
          "height": 80
        },
        "id": "gqFVXQSGi-OE",
        "outputId": "92aa2200-d2a8-469a-bb10-172bfdfdf398"
      },
      "source": [
        "# [2-36] korea 정보 중에서 대륙 정보를 제거합니다.\n"
      ],
      "execution_count": null,
      "outputs": [
        {
          "output_type": "execute_result",
          "data": {
            "text/html": [
              "<div>\n",
              "<style scoped>\n",
              "    .dataframe tbody tr th:only-of-type {\n",
              "        vertical-align: middle;\n",
              "    }\n",
              "\n",
              "    .dataframe tbody tr th {\n",
              "        vertical-align: top;\n",
              "    }\n",
              "\n",
              "    .dataframe thead th {\n",
              "        text-align: right;\n",
              "    }\n",
              "</style>\n",
              "<table border=\"1\" class=\"dataframe\">\n",
              "  <thead>\n",
              "    <tr style=\"text-align: right;\">\n",
              "      <th></th>\n",
              "      <th>국가</th>\n",
              "      <th>맥주</th>\n",
              "      <th>증류주</th>\n",
              "      <th>와인</th>\n",
              "      <th>알코올</th>\n",
              "      <th>주류소비량</th>\n",
              "      <th>알코올비율</th>\n",
              "    </tr>\n",
              "  </thead>\n",
              "  <tbody>\n",
              "    <tr>\n",
              "      <th>138</th>\n",
              "      <td>South Korea</td>\n",
              "      <td>140</td>\n",
              "      <td>16</td>\n",
              "      <td>9</td>\n",
              "      <td>9.8</td>\n",
              "      <td>165</td>\n",
              "      <td>0.059394</td>\n",
              "    </tr>\n",
              "  </tbody>\n",
              "</table>\n",
              "</div>"
            ],
            "text/plain": [
              "              국가   맥주  증류주  와인  알코올  주류소비량     알코올비율\n",
              "138  South Korea  140   16   9  9.8    165  0.059394"
            ]
          },
          "metadata": {},
          "execution_count": 5
        }
      ]
    },
    {
      "cell_type": "markdown",
      "metadata": {
        "id": "ouCq7P-BRsql"
      },
      "source": [
        "원하는 컬럼만 추출하기\n",
        "- DataFrame.loc[:, 시작컬럼명:끝컬럼명]\n",
        "- DataFrame.iloc[:, 시작컬럼번호:끝컬럼번호+1]\n",
        "   - 특정 번호부터 끝까지 모든 컬럼을 대상으로 하며면 끝컬럼번호+1 정보를 생략함"
      ]
    },
    {
      "cell_type": "code",
      "metadata": {
        "colab": {
          "base_uri": "https://localhost:8080/",
          "height": 81
        },
        "id": "CdiDh7ewRGxA",
        "outputId": "39c59486-e0f0-416f-8c9f-10e9ea46ff1e"
      },
      "source": [
        "# [2-37] indexing을 사용하여 korea 정보 중 대륙 정보를 제거합니다. (DataFrame.loc[])\n"
      ],
      "execution_count": null,
      "outputs": [
        {
          "output_type": "execute_result",
          "data": {
            "text/html": [
              "<div>\n",
              "<style scoped>\n",
              "    .dataframe tbody tr th:only-of-type {\n",
              "        vertical-align: middle;\n",
              "    }\n",
              "\n",
              "    .dataframe tbody tr th {\n",
              "        vertical-align: top;\n",
              "    }\n",
              "\n",
              "    .dataframe thead th {\n",
              "        text-align: right;\n",
              "    }\n",
              "</style>\n",
              "<table border=\"1\" class=\"dataframe\">\n",
              "  <thead>\n",
              "    <tr style=\"text-align: right;\">\n",
              "      <th></th>\n",
              "      <th>국가</th>\n",
              "      <th>맥주</th>\n",
              "      <th>증류주</th>\n",
              "      <th>와인</th>\n",
              "      <th>알코올</th>\n",
              "      <th>주류소비량</th>\n",
              "      <th>알코올비율</th>\n",
              "    </tr>\n",
              "  </thead>\n",
              "  <tbody>\n",
              "    <tr>\n",
              "      <th>85</th>\n",
              "      <td>South Korea</td>\n",
              "      <td>140</td>\n",
              "      <td>16</td>\n",
              "      <td>9</td>\n",
              "      <td>9.8</td>\n",
              "      <td>165</td>\n",
              "      <td>0.059394</td>\n",
              "    </tr>\n",
              "  </tbody>\n",
              "</table>\n",
              "</div>"
            ],
            "text/plain": [
              "             국가   맥주  증류주  와인  알코올  주류소비량     알코올비율\n",
              "85  South Korea  140   16   9  9.8    165  0.059394"
            ]
          },
          "metadata": {},
          "execution_count": 144
        }
      ]
    },
    {
      "cell_type": "code",
      "metadata": {
        "colab": {
          "base_uri": "https://localhost:8080/",
          "height": 81
        },
        "id": "UeJXdvDrRYgq",
        "outputId": "776171fa-ddd0-43f3-afff-cc6a1d16fb03"
      },
      "source": [
        "# [2-38] indexing을 사용하여 korea 정보 중 대륙 정보를 제거합니다. (DataFrame.iloc[])\n"
      ],
      "execution_count": null,
      "outputs": [
        {
          "output_type": "execute_result",
          "data": {
            "text/html": [
              "<div>\n",
              "<style scoped>\n",
              "    .dataframe tbody tr th:only-of-type {\n",
              "        vertical-align: middle;\n",
              "    }\n",
              "\n",
              "    .dataframe tbody tr th {\n",
              "        vertical-align: top;\n",
              "    }\n",
              "\n",
              "    .dataframe thead th {\n",
              "        text-align: right;\n",
              "    }\n",
              "</style>\n",
              "<table border=\"1\" class=\"dataframe\">\n",
              "  <thead>\n",
              "    <tr style=\"text-align: right;\">\n",
              "      <th></th>\n",
              "      <th>국가</th>\n",
              "      <th>맥주</th>\n",
              "      <th>증류주</th>\n",
              "      <th>와인</th>\n",
              "      <th>알코올</th>\n",
              "      <th>주류소비량</th>\n",
              "      <th>알코올비율</th>\n",
              "    </tr>\n",
              "  </thead>\n",
              "  <tbody>\n",
              "    <tr>\n",
              "      <th>85</th>\n",
              "      <td>South Korea</td>\n",
              "      <td>140</td>\n",
              "      <td>16</td>\n",
              "      <td>9</td>\n",
              "      <td>9.8</td>\n",
              "      <td>165</td>\n",
              "      <td>0.059394</td>\n",
              "    </tr>\n",
              "  </tbody>\n",
              "</table>\n",
              "</div>"
            ],
            "text/plain": [
              "             국가   맥주  증류주  와인  알코올  주류소비량     알코올비율\n",
              "85  South Korea  140   16   9  9.8    165  0.059394"
            ]
          },
          "metadata": {},
          "execution_count": 146
        }
      ]
    },
    {
      "cell_type": "code",
      "metadata": {
        "colab": {
          "base_uri": "https://localhost:8080/",
          "height": 80
        },
        "id": "fKtZUYQPJqqm",
        "outputId": "ebb3452f-ff54-44a9-af30-d1eef42cb9ed"
      },
      "source": [
        "# [2-39] korea에 대륙 정보가 제거된 정보를 다시 저장합니다.\n",
        "korea =\n",
        "korea"
      ],
      "execution_count": null,
      "outputs": [
        {
          "output_type": "execute_result",
          "data": {
            "text/html": [
              "<div>\n",
              "<style scoped>\n",
              "    .dataframe tbody tr th:only-of-type {\n",
              "        vertical-align: middle;\n",
              "    }\n",
              "\n",
              "    .dataframe tbody tr th {\n",
              "        vertical-align: top;\n",
              "    }\n",
              "\n",
              "    .dataframe thead th {\n",
              "        text-align: right;\n",
              "    }\n",
              "</style>\n",
              "<table border=\"1\" class=\"dataframe\">\n",
              "  <thead>\n",
              "    <tr style=\"text-align: right;\">\n",
              "      <th></th>\n",
              "      <th>국가</th>\n",
              "      <th>맥주</th>\n",
              "      <th>증류주</th>\n",
              "      <th>와인</th>\n",
              "      <th>알코올</th>\n",
              "      <th>주류소비량</th>\n",
              "      <th>알코올비율</th>\n",
              "    </tr>\n",
              "  </thead>\n",
              "  <tbody>\n",
              "    <tr>\n",
              "      <th>138</th>\n",
              "      <td>South Korea</td>\n",
              "      <td>140</td>\n",
              "      <td>16</td>\n",
              "      <td>9</td>\n",
              "      <td>9.8</td>\n",
              "      <td>165</td>\n",
              "      <td>0.059394</td>\n",
              "    </tr>\n",
              "  </tbody>\n",
              "</table>\n",
              "</div>"
            ],
            "text/plain": [
              "              국가   맥주  증류주  와인  알코올  주류소비량     알코올비율\n",
              "138  South Korea  140   16   9  9.8    165  0.059394"
            ]
          },
          "metadata": {},
          "execution_count": 6
        }
      ]
    },
    {
      "cell_type": "code",
      "metadata": {
        "id": "9vyQf9VjOFKr",
        "colab": {
          "base_uri": "https://localhost:8080/",
          "height": 238
        },
        "outputId": "c7fd7dc1-b069-4363-ccfe-ea700957029b"
      },
      "source": [
        "# [2-40] 세계의 각 컬럼별 평균을 구하여 DataFrame으로 만들고,\n",
        "# worldwide라는 이름을 지정합니다\n",
        "# 세계의 각 컬럼별 평균은 DataFrame.mean(numeric_only=True)을 사용합니다.\n",
        "worldwide =\n",
        "worldwide"
      ],
      "execution_count": null,
      "outputs": [
        {
          "output_type": "execute_result",
          "data": {
            "text/html": [
              "<div>\n",
              "<style scoped>\n",
              "    .dataframe tbody tr th:only-of-type {\n",
              "        vertical-align: middle;\n",
              "    }\n",
              "\n",
              "    .dataframe tbody tr th {\n",
              "        vertical-align: top;\n",
              "    }\n",
              "\n",
              "    .dataframe thead th {\n",
              "        text-align: right;\n",
              "    }\n",
              "</style>\n",
              "<table border=\"1\" class=\"dataframe\">\n",
              "  <thead>\n",
              "    <tr style=\"text-align: right;\">\n",
              "      <th></th>\n",
              "      <th>0</th>\n",
              "    </tr>\n",
              "  </thead>\n",
              "  <tbody>\n",
              "    <tr>\n",
              "      <th>맥주</th>\n",
              "      <td>106.160622</td>\n",
              "    </tr>\n",
              "    <tr>\n",
              "      <th>증류주</th>\n",
              "      <td>80.994819</td>\n",
              "    </tr>\n",
              "    <tr>\n",
              "      <th>와인</th>\n",
              "      <td>49.450777</td>\n",
              "    </tr>\n",
              "    <tr>\n",
              "      <th>알코올</th>\n",
              "      <td>4.717098</td>\n",
              "    </tr>\n",
              "    <tr>\n",
              "      <th>주류소비량</th>\n",
              "      <td>236.606218</td>\n",
              "    </tr>\n",
              "    <tr>\n",
              "      <th>알코올비율</th>\n",
              "      <td>0.026115</td>\n",
              "    </tr>\n",
              "  </tbody>\n",
              "</table>\n",
              "</div>"
            ],
            "text/plain": [
              "                0\n",
              "맥주     106.160622\n",
              "증류주     80.994819\n",
              "와인      49.450777\n",
              "알코올      4.717098\n",
              "주류소비량  236.606218\n",
              "알코올비율    0.026115"
            ]
          },
          "metadata": {},
          "execution_count": 7
        }
      ]
    },
    {
      "cell_type": "markdown",
      "metadata": {
        "id": "oqsCwKA_Mv23"
      },
      "source": [
        "DataFrame의 행/열 전환\n",
        "- DataFrame.T : index, columns의 위치가 바뀜"
      ]
    },
    {
      "cell_type": "code",
      "metadata": {
        "id": "WUlpqTn2lOij",
        "colab": {
          "base_uri": "https://localhost:8080/",
          "height": 80
        },
        "outputId": "f0878f44-acce-44eb-c861-f0dc6f59748d"
      },
      "source": [
        "# [2-41] worldwide의 행과 열을 전환해 wwT로 저장합니다.\n",
        "wwT =\n",
        "wwT"
      ],
      "execution_count": null,
      "outputs": [
        {
          "output_type": "execute_result",
          "data": {
            "text/html": [
              "<div>\n",
              "<style scoped>\n",
              "    .dataframe tbody tr th:only-of-type {\n",
              "        vertical-align: middle;\n",
              "    }\n",
              "\n",
              "    .dataframe tbody tr th {\n",
              "        vertical-align: top;\n",
              "    }\n",
              "\n",
              "    .dataframe thead th {\n",
              "        text-align: right;\n",
              "    }\n",
              "</style>\n",
              "<table border=\"1\" class=\"dataframe\">\n",
              "  <thead>\n",
              "    <tr style=\"text-align: right;\">\n",
              "      <th></th>\n",
              "      <th>맥주</th>\n",
              "      <th>증류주</th>\n",
              "      <th>와인</th>\n",
              "      <th>알코올</th>\n",
              "      <th>주류소비량</th>\n",
              "      <th>알코올비율</th>\n",
              "    </tr>\n",
              "  </thead>\n",
              "  <tbody>\n",
              "    <tr>\n",
              "      <th>0</th>\n",
              "      <td>106.160622</td>\n",
              "      <td>80.994819</td>\n",
              "      <td>49.450777</td>\n",
              "      <td>4.717098</td>\n",
              "      <td>236.606218</td>\n",
              "      <td>0.026115</td>\n",
              "    </tr>\n",
              "  </tbody>\n",
              "</table>\n",
              "</div>"
            ],
            "text/plain": [
              "           맥주        증류주         와인       알코올       주류소비량     알코올비율\n",
              "0  106.160622  80.994819  49.450777  4.717098  236.606218  0.026115"
            ]
          },
          "metadata": {},
          "execution_count": 8
        }
      ]
    },
    {
      "cell_type": "markdown",
      "metadata": {
        "id": "yzjrpX9ZRKuq"
      },
      "source": [
        "DataFrame의 임의 위치 열 삽입\n",
        "- DataFrame.insert(위치, 컬럼, 값) : inplace 동작됨 (새로운 return 없음)"
      ]
    },
    {
      "cell_type": "code",
      "metadata": {
        "colab": {
          "base_uri": "https://localhost:8080/",
          "height": 80
        },
        "id": "2GiUWsXelT_u",
        "outputId": "41c2a183-00fa-400f-9155-c8bf9dd0b807"
      },
      "source": [
        "# [2-42] wwT의 맨 앞에 '국가' 컬럼을 'World Wide' 값으로 추가합니다.\n",
        "# 여러 번 추가하면 안됨\n",
        "\n"
      ],
      "execution_count": null,
      "outputs": [
        {
          "output_type": "execute_result",
          "data": {
            "text/html": [
              "<div>\n",
              "<style scoped>\n",
              "    .dataframe tbody tr th:only-of-type {\n",
              "        vertical-align: middle;\n",
              "    }\n",
              "\n",
              "    .dataframe tbody tr th {\n",
              "        vertical-align: top;\n",
              "    }\n",
              "\n",
              "    .dataframe thead th {\n",
              "        text-align: right;\n",
              "    }\n",
              "</style>\n",
              "<table border=\"1\" class=\"dataframe\">\n",
              "  <thead>\n",
              "    <tr style=\"text-align: right;\">\n",
              "      <th></th>\n",
              "      <th>국가</th>\n",
              "      <th>맥주</th>\n",
              "      <th>증류주</th>\n",
              "      <th>와인</th>\n",
              "      <th>알코올</th>\n",
              "      <th>주류소비량</th>\n",
              "      <th>알코올비율</th>\n",
              "    </tr>\n",
              "  </thead>\n",
              "  <tbody>\n",
              "    <tr>\n",
              "      <th>0</th>\n",
              "      <td>World Wide</td>\n",
              "      <td>106.160622</td>\n",
              "      <td>80.994819</td>\n",
              "      <td>49.450777</td>\n",
              "      <td>4.717098</td>\n",
              "      <td>236.606218</td>\n",
              "      <td>0.026115</td>\n",
              "    </tr>\n",
              "  </tbody>\n",
              "</table>\n",
              "</div>"
            ],
            "text/plain": [
              "           국가          맥주        증류주         와인       알코올       주류소비량     알코올비율\n",
              "0  World Wide  106.160622  80.994819  49.450777  4.717098  236.606218  0.026115"
            ]
          },
          "metadata": {},
          "execution_count": 21
        }
      ]
    },
    {
      "cell_type": "markdown",
      "metadata": {
        "id": "hDAGtoetRyCp"
      },
      "source": [
        "DataFrame의 행(들) 추가\n",
        "- DataFrame.append(DataFrame) : 새로운 DataFrame 반환\n",
        "- 2개를 1개로 합치는 작업 가능\n",
        "- **pandas 버전이 높아져서 AttributeError 가 발생합니다.**\n",
        "- **pd.concat() 함수를 사용하셔야 합니다.**"
      ]
    },
    {
      "cell_type": "code",
      "metadata": {
        "colab": {
          "base_uri": "https://localhost:8080/",
          "height": 112
        },
        "id": "Rw52RmfqUqCA",
        "outputId": "e2378fba-6f11-44a6-c151-fe98c5671a19"
      },
      "source": [
        "# [2-43] korea 뒤에 wwT를 추가하여 compT 로 이름 붙입니다\n",
        "# DataFrame.append(DataFrame)은 pandas 버전이 높은 경우 AttributeError가 발생합니다.\n",
        "compT =\n",
        "compT"
      ],
      "execution_count": null,
      "outputs": [
        {
          "output_type": "execute_result",
          "data": {
            "text/html": [
              "<div>\n",
              "<style scoped>\n",
              "    .dataframe tbody tr th:only-of-type {\n",
              "        vertical-align: middle;\n",
              "    }\n",
              "\n",
              "    .dataframe tbody tr th {\n",
              "        vertical-align: top;\n",
              "    }\n",
              "\n",
              "    .dataframe thead th {\n",
              "        text-align: right;\n",
              "    }\n",
              "</style>\n",
              "<table border=\"1\" class=\"dataframe\">\n",
              "  <thead>\n",
              "    <tr style=\"text-align: right;\">\n",
              "      <th></th>\n",
              "      <th>국가</th>\n",
              "      <th>맥주</th>\n",
              "      <th>증류주</th>\n",
              "      <th>와인</th>\n",
              "      <th>알코올</th>\n",
              "      <th>주류소비량</th>\n",
              "      <th>알코올비율</th>\n",
              "    </tr>\n",
              "  </thead>\n",
              "  <tbody>\n",
              "    <tr>\n",
              "      <th>138</th>\n",
              "      <td>South Korea</td>\n",
              "      <td>140.000000</td>\n",
              "      <td>16.000000</td>\n",
              "      <td>9.000000</td>\n",
              "      <td>9.800000</td>\n",
              "      <td>165.000000</td>\n",
              "      <td>0.059394</td>\n",
              "    </tr>\n",
              "    <tr>\n",
              "      <th>0</th>\n",
              "      <td>World Wide</td>\n",
              "      <td>106.160622</td>\n",
              "      <td>80.994819</td>\n",
              "      <td>49.450777</td>\n",
              "      <td>4.717098</td>\n",
              "      <td>236.606218</td>\n",
              "      <td>0.026115</td>\n",
              "    </tr>\n",
              "  </tbody>\n",
              "</table>\n",
              "</div>"
            ],
            "text/plain": [
              "              국가          맥주        증류주  ...       알코올       주류소비량     알코올비율\n",
              "138  South Korea  140.000000  16.000000  ...  9.800000  165.000000  0.059394\n",
              "0     World Wide  106.160622  80.994819  ...  4.717098  236.606218  0.026115\n",
              "\n",
              "[2 rows x 7 columns]"
            ]
          },
          "metadata": {},
          "execution_count": 25
        }
      ]
    },
    {
      "cell_type": "code",
      "metadata": {
        "id": "xHy3V7M1TSjP"
      },
      "source": [
        "# 한국의 맥주 및 알코올 소비량이 전세계 맥주 소비량보다 많은 것을 알 수 있습니다."
      ],
      "execution_count": null,
      "outputs": []
    },
    {
      "cell_type": "markdown",
      "metadata": {
        "id": "aSVWti6zT0d-"
      },
      "source": [
        "여러 개의 DataFrame을 합쳐 하나의 DataFrame 생성\n",
        "- pd.concat([df1, df2, ....], axis=0) : index 방향으로 합치기\n",
        "- pd.concat([df1, df2, ....], axis=1) : columns 방향으로 합치기\n",
        "- DataFrame.append()와는 달리 여러 개의 DataFrame 목록을 주어 여러 개를 한 번에 합칠 수 있음"
      ]
    },
    {
      "cell_type": "code",
      "metadata": {
        "colab": {
          "base_uri": "https://localhost:8080/",
          "height": 112
        },
        "id": "cnwdPBHwkiBA",
        "outputId": "ec84bca0-5e62-496d-8170-326a6552108e"
      },
      "source": [
        "# [2-44] wwT와 korea 를 합쳐 하나의 DataFrame을 생성하여 df2로 저장합니다.\n",
        "df2 =\n",
        "df2"
      ],
      "execution_count": null,
      "outputs": [
        {
          "output_type": "execute_result",
          "data": {
            "text/html": [
              "<div>\n",
              "<style scoped>\n",
              "    .dataframe tbody tr th:only-of-type {\n",
              "        vertical-align: middle;\n",
              "    }\n",
              "\n",
              "    .dataframe tbody tr th {\n",
              "        vertical-align: top;\n",
              "    }\n",
              "\n",
              "    .dataframe thead th {\n",
              "        text-align: right;\n",
              "    }\n",
              "</style>\n",
              "<table border=\"1\" class=\"dataframe\">\n",
              "  <thead>\n",
              "    <tr style=\"text-align: right;\">\n",
              "      <th></th>\n",
              "      <th>국가</th>\n",
              "      <th>맥주</th>\n",
              "      <th>증류주</th>\n",
              "      <th>와인</th>\n",
              "      <th>알코올</th>\n",
              "      <th>주류소비량</th>\n",
              "      <th>알코올비율</th>\n",
              "    </tr>\n",
              "  </thead>\n",
              "  <tbody>\n",
              "    <tr>\n",
              "      <th>138</th>\n",
              "      <td>South Korea</td>\n",
              "      <td>140.000000</td>\n",
              "      <td>16.000000</td>\n",
              "      <td>9.000000</td>\n",
              "      <td>9.800000</td>\n",
              "      <td>165.000000</td>\n",
              "      <td>0.059394</td>\n",
              "    </tr>\n",
              "    <tr>\n",
              "      <th>0</th>\n",
              "      <td>World Wide</td>\n",
              "      <td>106.160622</td>\n",
              "      <td>80.994819</td>\n",
              "      <td>49.450777</td>\n",
              "      <td>4.717098</td>\n",
              "      <td>236.606218</td>\n",
              "      <td>0.026115</td>\n",
              "    </tr>\n",
              "  </tbody>\n",
              "</table>\n",
              "</div>"
            ],
            "text/plain": [
              "              국가          맥주        증류주  ...       알코올       주류소비량     알코올비율\n",
              "138  South Korea  140.000000  16.000000  ...  9.800000  165.000000  0.059394\n",
              "0     World Wide  106.160622  80.994819  ...  4.717098  236.606218  0.026115\n",
              "\n",
              "[2 rows x 7 columns]"
            ]
          },
          "metadata": {},
          "execution_count": 27
        }
      ]
    },
    {
      "cell_type": "code",
      "metadata": {
        "colab": {
          "base_uri": "https://localhost:8080/",
          "height": 143
        },
        "id": "yjtJr5oEmeKP",
        "outputId": "26d4a3f0-bdc8-4855-b0b2-1592d1b8d760"
      },
      "source": [
        "# [2-45] df2를 '국가' 컬럼을 index로 설정하여 df3으로 저장합니다\n",
        "df3 =\n",
        "df3"
      ],
      "execution_count": null,
      "outputs": [
        {
          "output_type": "execute_result",
          "data": {
            "text/html": [
              "<div>\n",
              "<style scoped>\n",
              "    .dataframe tbody tr th:only-of-type {\n",
              "        vertical-align: middle;\n",
              "    }\n",
              "\n",
              "    .dataframe tbody tr th {\n",
              "        vertical-align: top;\n",
              "    }\n",
              "\n",
              "    .dataframe thead th {\n",
              "        text-align: right;\n",
              "    }\n",
              "</style>\n",
              "<table border=\"1\" class=\"dataframe\">\n",
              "  <thead>\n",
              "    <tr style=\"text-align: right;\">\n",
              "      <th></th>\n",
              "      <th>맥주</th>\n",
              "      <th>증류주</th>\n",
              "      <th>와인</th>\n",
              "      <th>알코올</th>\n",
              "      <th>주류소비량</th>\n",
              "      <th>알코올비율</th>\n",
              "    </tr>\n",
              "    <tr>\n",
              "      <th>국가</th>\n",
              "      <th></th>\n",
              "      <th></th>\n",
              "      <th></th>\n",
              "      <th></th>\n",
              "      <th></th>\n",
              "      <th></th>\n",
              "    </tr>\n",
              "  </thead>\n",
              "  <tbody>\n",
              "    <tr>\n",
              "      <th>South Korea</th>\n",
              "      <td>140.000000</td>\n",
              "      <td>16.000000</td>\n",
              "      <td>9.000000</td>\n",
              "      <td>9.800000</td>\n",
              "      <td>165.000000</td>\n",
              "      <td>0.059394</td>\n",
              "    </tr>\n",
              "    <tr>\n",
              "      <th>World Wide</th>\n",
              "      <td>106.160622</td>\n",
              "      <td>80.994819</td>\n",
              "      <td>49.450777</td>\n",
              "      <td>4.717098</td>\n",
              "      <td>236.606218</td>\n",
              "      <td>0.026115</td>\n",
              "    </tr>\n",
              "  </tbody>\n",
              "</table>\n",
              "</div>"
            ],
            "text/plain": [
              "                     맥주        증류주         와인       알코올       주류소비량     알코올비율\n",
              "국가                                                                           \n",
              "South Korea  140.000000  16.000000   9.000000  9.800000  165.000000  0.059394\n",
              "World Wide   106.160622  80.994819  49.450777  4.717098  236.606218  0.026115"
            ]
          },
          "metadata": {},
          "execution_count": 28
        }
      ]
    },
    {
      "cell_type": "code",
      "metadata": {
        "colab": {
          "base_uri": "https://localhost:8080/",
          "height": 238
        },
        "id": "OhXhfGvBjB1F",
        "outputId": "83f719cf-fa13-4ce9-bdcb-0aecce7073b2"
      },
      "source": [
        "# [2-46] df3의 행,열을 전환하여 출력합니다.\n"
      ],
      "execution_count": null,
      "outputs": [
        {
          "output_type": "execute_result",
          "data": {
            "text/html": [
              "<div>\n",
              "<style scoped>\n",
              "    .dataframe tbody tr th:only-of-type {\n",
              "        vertical-align: middle;\n",
              "    }\n",
              "\n",
              "    .dataframe tbody tr th {\n",
              "        vertical-align: top;\n",
              "    }\n",
              "\n",
              "    .dataframe thead th {\n",
              "        text-align: right;\n",
              "    }\n",
              "</style>\n",
              "<table border=\"1\" class=\"dataframe\">\n",
              "  <thead>\n",
              "    <tr style=\"text-align: right;\">\n",
              "      <th>국가</th>\n",
              "      <th>South Korea</th>\n",
              "      <th>World Wide</th>\n",
              "    </tr>\n",
              "  </thead>\n",
              "  <tbody>\n",
              "    <tr>\n",
              "      <th>맥주</th>\n",
              "      <td>140.000000</td>\n",
              "      <td>106.160622</td>\n",
              "    </tr>\n",
              "    <tr>\n",
              "      <th>증류주</th>\n",
              "      <td>16.000000</td>\n",
              "      <td>80.994819</td>\n",
              "    </tr>\n",
              "    <tr>\n",
              "      <th>와인</th>\n",
              "      <td>9.000000</td>\n",
              "      <td>49.450777</td>\n",
              "    </tr>\n",
              "    <tr>\n",
              "      <th>알코올</th>\n",
              "      <td>9.800000</td>\n",
              "      <td>4.717098</td>\n",
              "    </tr>\n",
              "    <tr>\n",
              "      <th>주류소비량</th>\n",
              "      <td>165.000000</td>\n",
              "      <td>236.606218</td>\n",
              "    </tr>\n",
              "    <tr>\n",
              "      <th>알코올비율</th>\n",
              "      <td>0.059394</td>\n",
              "      <td>0.026115</td>\n",
              "    </tr>\n",
              "  </tbody>\n",
              "</table>\n",
              "</div>"
            ],
            "text/plain": [
              "국가     South Korea  World Wide\n",
              "맥주      140.000000  106.160622\n",
              "증류주      16.000000   80.994819\n",
              "와인        9.000000   49.450777\n",
              "알코올       9.800000    4.717098\n",
              "주류소비량   165.000000  236.606218\n",
              "알코올비율     0.059394    0.026115"
            ]
          },
          "metadata": {},
          "execution_count": 29
        }
      ]
    },
    {
      "cell_type": "markdown",
      "metadata": {
        "id": "_ZWAnH92jLHe"
      },
      "source": [
        "### 3-5. 맥주 소비량"
      ]
    },
    {
      "cell_type": "code",
      "metadata": {
        "colab": {
          "base_uri": "https://localhost:8080/",
          "height": 112
        },
        "id": "4hatE4rVhnJO",
        "outputId": "f4055c07-e6e5-4cad-b0ab-0ab72dd70ec1"
      },
      "source": [
        "# [2-47] 주류소비량이 있으면서, 맥주를 소비하지 않는 나라의 맥주, 증류주, 와인, 알코올, 대륙 등 모든 정보를 구해 봅니다.\n",
        "# indexing 사용\n"
      ],
      "execution_count": null,
      "outputs": [
        {
          "output_type": "execute_result",
          "data": {
            "text/html": [
              "<div>\n",
              "<style scoped>\n",
              "    .dataframe tbody tr th:only-of-type {\n",
              "        vertical-align: middle;\n",
              "    }\n",
              "\n",
              "    .dataframe tbody tr th {\n",
              "        vertical-align: top;\n",
              "    }\n",
              "\n",
              "    .dataframe thead th {\n",
              "        text-align: right;\n",
              "    }\n",
              "</style>\n",
              "<table border=\"1\" class=\"dataframe\">\n",
              "  <thead>\n",
              "    <tr style=\"text-align: right;\">\n",
              "      <th></th>\n",
              "      <th>국가</th>\n",
              "      <th>맥주</th>\n",
              "      <th>증류주</th>\n",
              "      <th>와인</th>\n",
              "      <th>알코올</th>\n",
              "      <th>대륙</th>\n",
              "      <th>주류소비량</th>\n",
              "      <th>알코올비율</th>\n",
              "    </tr>\n",
              "  </thead>\n",
              "  <tbody>\n",
              "    <tr>\n",
              "      <th>40</th>\n",
              "      <td>Cook Islands</td>\n",
              "      <td>0</td>\n",
              "      <td>254</td>\n",
              "      <td>74</td>\n",
              "      <td>5.9</td>\n",
              "      <td>OC</td>\n",
              "      <td>328</td>\n",
              "      <td>0.017988</td>\n",
              "    </tr>\n",
              "    <tr>\n",
              "      <th>149</th>\n",
              "      <td>Saudi Arabia</td>\n",
              "      <td>0</td>\n",
              "      <td>5</td>\n",
              "      <td>0</td>\n",
              "      <td>0.1</td>\n",
              "      <td>AS</td>\n",
              "      <td>5</td>\n",
              "      <td>0.020000</td>\n",
              "    </tr>\n",
              "  </tbody>\n",
              "</table>\n",
              "</div>"
            ],
            "text/plain": [
              "               국가  맥주  증류주  와인  알코올  대륙  주류소비량     알코올비율\n",
              "40   Cook Islands   0  254  74  5.9  OC    328  0.017988\n",
              "149  Saudi Arabia   0    5   0  0.1  AS      5  0.020000"
            ]
          },
          "metadata": {},
          "execution_count": 32
        }
      ]
    },
    {
      "cell_type": "code",
      "metadata": {
        "colab": {
          "base_uri": "https://localhost:8080/"
        },
        "id": "1nOGOEYpzpDs",
        "outputId": "8b42c617-c790-4583-f9c4-0f7d7e9fdb88"
      },
      "source": [
        "# [2-48] 주류소비량이 있으면서, 맥주를 소비하지 않는 국가의 국가명 목록을 구해봅니다.\n"
      ],
      "execution_count": null,
      "outputs": [
        {
          "output_type": "execute_result",
          "data": {
            "text/plain": [
              "['Saudi Arabia', 'Cook Islands']"
            ]
          },
          "metadata": {},
          "execution_count": 147
        }
      ]
    },
    {
      "cell_type": "code",
      "metadata": {
        "id": "5XL069pEhnFu"
      },
      "source": [
        "# [2-49] 주류소비량이 정보가 없는 국가의 정보를 구해 봅니다.\n"
      ],
      "execution_count": null,
      "outputs": []
    },
    {
      "cell_type": "code",
      "metadata": {
        "colab": {
          "base_uri": "https://localhost:8080/",
          "height": 206
        },
        "id": "6xs7CsfAzgvo",
        "outputId": "9c3b73ed-9578-4abf-8a9c-2e4feb3ef2fb"
      },
      "source": [
        "# [2-50] 맥주 소비량의 값이 큰 5개 국가를 알아봅니다.\n"
      ],
      "execution_count": null,
      "outputs": [
        {
          "output_type": "execute_result",
          "data": {
            "text/html": [
              "<div>\n",
              "<style scoped>\n",
              "    .dataframe tbody tr th:only-of-type {\n",
              "        vertical-align: middle;\n",
              "    }\n",
              "\n",
              "    .dataframe tbody tr th {\n",
              "        vertical-align: top;\n",
              "    }\n",
              "\n",
              "    .dataframe thead th {\n",
              "        text-align: right;\n",
              "    }\n",
              "</style>\n",
              "<table border=\"1\" class=\"dataframe\">\n",
              "  <thead>\n",
              "    <tr style=\"text-align: right;\">\n",
              "      <th></th>\n",
              "      <th>대륙</th>\n",
              "      <th>국가</th>\n",
              "      <th>맥주</th>\n",
              "      <th>증류주</th>\n",
              "      <th>와인</th>\n",
              "      <th>알코올</th>\n",
              "      <th>주류소비량</th>\n",
              "      <th>알코올비율</th>\n",
              "    </tr>\n",
              "  </thead>\n",
              "  <tbody>\n",
              "    <tr>\n",
              "      <th>35</th>\n",
              "      <td>AF</td>\n",
              "      <td>Namibia</td>\n",
              "      <td>376</td>\n",
              "      <td>3</td>\n",
              "      <td>1</td>\n",
              "      <td>6.8</td>\n",
              "      <td>380</td>\n",
              "      <td>0.017895</td>\n",
              "    </tr>\n",
              "    <tr>\n",
              "      <th>108</th>\n",
              "      <td>EU</td>\n",
              "      <td>Czech Republic</td>\n",
              "      <td>361</td>\n",
              "      <td>170</td>\n",
              "      <td>134</td>\n",
              "      <td>11.8</td>\n",
              "      <td>665</td>\n",
              "      <td>0.017744</td>\n",
              "    </tr>\n",
              "    <tr>\n",
              "      <th>19</th>\n",
              "      <td>AF</td>\n",
              "      <td>Gabon</td>\n",
              "      <td>347</td>\n",
              "      <td>98</td>\n",
              "      <td>59</td>\n",
              "      <td>8.9</td>\n",
              "      <td>504</td>\n",
              "      <td>0.017659</td>\n",
              "    </tr>\n",
              "    <tr>\n",
              "      <th>114</th>\n",
              "      <td>EU</td>\n",
              "      <td>Germany</td>\n",
              "      <td>346</td>\n",
              "      <td>117</td>\n",
              "      <td>175</td>\n",
              "      <td>11.3</td>\n",
              "      <td>638</td>\n",
              "      <td>0.017712</td>\n",
              "    </tr>\n",
              "    <tr>\n",
              "      <th>121</th>\n",
              "      <td>EU</td>\n",
              "      <td>Lithuania</td>\n",
              "      <td>343</td>\n",
              "      <td>244</td>\n",
              "      <td>56</td>\n",
              "      <td>12.9</td>\n",
              "      <td>643</td>\n",
              "      <td>0.020062</td>\n",
              "    </tr>\n",
              "  </tbody>\n",
              "</table>\n",
              "</div>"
            ],
            "text/plain": [
              "     대륙              국가   맥주  증류주   와인   알코올  주류소비량     알코올비율\n",
              "35   AF         Namibia  376    3    1   6.8    380  0.017895\n",
              "108  EU  Czech Republic  361  170  134  11.8    665  0.017744\n",
              "19   AF           Gabon  347   98   59   8.9    504  0.017659\n",
              "114  EU         Germany  346  117  175  11.3    638  0.017712\n",
              "121  EU       Lithuania  343  244   56  12.9    643  0.020062"
            ]
          },
          "metadata": {},
          "execution_count": 151
        }
      ]
    },
    {
      "cell_type": "code",
      "metadata": {
        "colab": {
          "base_uri": "https://localhost:8080/"
        },
        "id": "ppi6zIiEzuoW",
        "outputId": "b6da40b5-0ae2-4fc5-c21e-bdccd66fb4e9"
      },
      "source": [
        "# [2-51] 맥주 소비량이 세계 평균 소비량보다 큰 국가의 개수는?\n"
      ],
      "execution_count": null,
      "outputs": [
        {
          "output_type": "execute_result",
          "data": {
            "text/plain": [
              "76"
            ]
          },
          "metadata": {},
          "execution_count": 154
        }
      ]
    },
    {
      "cell_type": "markdown",
      "metadata": {
        "id": "GJfsWFYlTVrc"
      },
      "source": [
        "### 3-6. 어느 대륙에서 평균보다 맥주를 더 많이 마시는가?\n",
        "그룹별 통계치 구하기  \n",
        "- DataFrame.groupby(컬럼명).적용할통계함수()\n",
        "    - DataFrame의 **함수 적용 가능 컬럼들**에 대해 그룹별 통계치를 구함\n",
        "    - 통계함수에는 sum, mean, std, var, min, max, count, quantile 등이 있음\n",
        "\n",
        "\n",
        "- DataFrame.groupby(컬럼명)[컬럼명].적용할통계함수()\n",
        "    - **특정 컬럼(들)**에 대한 결과만 확인할 때\n",
        "    - [컬럼명] : 결과가 Series\n",
        "    - [[컬럼명]] : 결과가 DataFrame\n",
        "    - [[컬럼명1, 컬럼명2, ..]] : 결과 DataFrame\n",
        "\n",
        "- DataFrame.groupby(컬럼명)[컬럼명].agg([통계함수1, 통계함수2 , ...])를 사용함\n",
        "    - 여러 개의 통계함수를 적용\n",
        "    - 통계함수를 문자열 형식으로 사용 가능"
      ]
    },
    {
      "cell_type": "code",
      "metadata": {
        "colab": {
          "base_uri": "https://localhost:8080/"
        },
        "id": "yYBS2i-HkalP",
        "outputId": "c2531aef-7414-43a0-d451-0a51c0304ead"
      },
      "source": [
        "# [2-52] 전세계 주류 소비량 평균\n"
      ],
      "execution_count": null,
      "outputs": [
        {
          "output_type": "execute_result",
          "data": {
            "text/plain": [
              "맥주       106.160622\n",
              "증류주       80.994819\n",
              "와인        49.450777\n",
              "알코올        4.717098\n",
              "주류소비량    236.606218\n",
              "알코올비율      0.026115\n",
              "dtype: float64"
            ]
          },
          "metadata": {},
          "execution_count": 155
        }
      ]
    },
    {
      "cell_type": "code",
      "metadata": {
        "colab": {
          "base_uri": "https://localhost:8080/",
          "height": 269
        },
        "id": "bYTPzocQTLQu",
        "outputId": "4073a783-1133-4c1e-cae5-3fecfe15d672"
      },
      "source": [
        "# [2-53] 대륙별 주류 소비량 평균을 계산해 봅니다.\n"
      ],
      "execution_count": null,
      "outputs": [
        {
          "output_type": "execute_result",
          "data": {
            "text/html": [
              "<div>\n",
              "<style scoped>\n",
              "    .dataframe tbody tr th:only-of-type {\n",
              "        vertical-align: middle;\n",
              "    }\n",
              "\n",
              "    .dataframe tbody tr th {\n",
              "        vertical-align: top;\n",
              "    }\n",
              "\n",
              "    .dataframe thead th {\n",
              "        text-align: right;\n",
              "    }\n",
              "</style>\n",
              "<table border=\"1\" class=\"dataframe\">\n",
              "  <thead>\n",
              "    <tr style=\"text-align: right;\">\n",
              "      <th></th>\n",
              "      <th>맥주</th>\n",
              "      <th>증류주</th>\n",
              "      <th>와인</th>\n",
              "      <th>알코올</th>\n",
              "      <th>주류소비량</th>\n",
              "      <th>알코올비율</th>\n",
              "    </tr>\n",
              "    <tr>\n",
              "      <th>대륙</th>\n",
              "      <th></th>\n",
              "      <th></th>\n",
              "      <th></th>\n",
              "      <th></th>\n",
              "      <th></th>\n",
              "      <th></th>\n",
              "    </tr>\n",
              "  </thead>\n",
              "  <tbody>\n",
              "    <tr>\n",
              "      <th>AF</th>\n",
              "      <td>61.471698</td>\n",
              "      <td>16.339623</td>\n",
              "      <td>16.264151</td>\n",
              "      <td>3.007547</td>\n",
              "      <td>94.075472</td>\n",
              "      <td>0.049741</td>\n",
              "    </tr>\n",
              "    <tr>\n",
              "      <th>AS</th>\n",
              "      <td>37.045455</td>\n",
              "      <td>60.840909</td>\n",
              "      <td>9.068182</td>\n",
              "      <td>2.170455</td>\n",
              "      <td>106.954545</td>\n",
              "      <td>0.016359</td>\n",
              "    </tr>\n",
              "    <tr>\n",
              "      <th>EU</th>\n",
              "      <td>193.777778</td>\n",
              "      <td>132.555556</td>\n",
              "      <td>142.222222</td>\n",
              "      <td>8.617778</td>\n",
              "      <td>468.555556</td>\n",
              "      <td>0.017527</td>\n",
              "    </tr>\n",
              "    <tr>\n",
              "      <th>NA</th>\n",
              "      <td>145.434783</td>\n",
              "      <td>165.739130</td>\n",
              "      <td>24.521739</td>\n",
              "      <td>5.995652</td>\n",
              "      <td>335.695652</td>\n",
              "      <td>0.017854</td>\n",
              "    </tr>\n",
              "    <tr>\n",
              "      <th>OC</th>\n",
              "      <td>89.687500</td>\n",
              "      <td>58.437500</td>\n",
              "      <td>35.625000</td>\n",
              "      <td>3.381250</td>\n",
              "      <td>183.750000</td>\n",
              "      <td>0.016895</td>\n",
              "    </tr>\n",
              "    <tr>\n",
              "      <th>SA</th>\n",
              "      <td>175.083333</td>\n",
              "      <td>114.750000</td>\n",
              "      <td>62.416667</td>\n",
              "      <td>6.308333</td>\n",
              "      <td>352.250000</td>\n",
              "      <td>0.017868</td>\n",
              "    </tr>\n",
              "  </tbody>\n",
              "</table>\n",
              "</div>"
            ],
            "text/plain": [
              "            맥주         증류주          와인       알코올       주류소비량     알코올비율\n",
              "대륙                                                                    \n",
              "AF   61.471698   16.339623   16.264151  3.007547   94.075472  0.049741\n",
              "AS   37.045455   60.840909    9.068182  2.170455  106.954545  0.016359\n",
              "EU  193.777778  132.555556  142.222222  8.617778  468.555556  0.017527\n",
              "NA  145.434783  165.739130   24.521739  5.995652  335.695652  0.017854\n",
              "OC   89.687500   58.437500   35.625000  3.381250  183.750000  0.016895\n",
              "SA  175.083333  114.750000   62.416667  6.308333  352.250000  0.017868"
            ]
          },
          "metadata": {},
          "execution_count": 156
        }
      ]
    },
    {
      "cell_type": "code",
      "metadata": {
        "colab": {
          "base_uri": "https://localhost:8080/",
          "height": 269
        },
        "id": "0PJjIOF0lRT5",
        "outputId": "56720aaf-3d30-4fdc-e367-9ed61c163b8a"
      },
      "source": [
        "# [2-54] 대륙별 주류 소비량 중앙값을 계산해 봅니다.\n"
      ],
      "execution_count": null,
      "outputs": [
        {
          "output_type": "execute_result",
          "data": {
            "text/html": [
              "<div>\n",
              "<style scoped>\n",
              "    .dataframe tbody tr th:only-of-type {\n",
              "        vertical-align: middle;\n",
              "    }\n",
              "\n",
              "    .dataframe tbody tr th {\n",
              "        vertical-align: top;\n",
              "    }\n",
              "\n",
              "    .dataframe thead th {\n",
              "        text-align: right;\n",
              "    }\n",
              "</style>\n",
              "<table border=\"1\" class=\"dataframe\">\n",
              "  <thead>\n",
              "    <tr style=\"text-align: right;\">\n",
              "      <th></th>\n",
              "      <th>맥주</th>\n",
              "      <th>증류주</th>\n",
              "      <th>와인</th>\n",
              "      <th>알코올</th>\n",
              "      <th>주류소비량</th>\n",
              "      <th>알코올비율</th>\n",
              "    </tr>\n",
              "    <tr>\n",
              "      <th>대륙</th>\n",
              "      <th></th>\n",
              "      <th></th>\n",
              "      <th></th>\n",
              "      <th></th>\n",
              "      <th></th>\n",
              "      <th></th>\n",
              "    </tr>\n",
              "  </thead>\n",
              "  <tbody>\n",
              "    <tr>\n",
              "      <th>AF</th>\n",
              "      <td>32.0</td>\n",
              "      <td>3.0</td>\n",
              "      <td>2.0</td>\n",
              "      <td>2.30</td>\n",
              "      <td>49.0</td>\n",
              "      <td>0.021951</td>\n",
              "    </tr>\n",
              "    <tr>\n",
              "      <th>AS</th>\n",
              "      <td>17.5</td>\n",
              "      <td>16.0</td>\n",
              "      <td>1.0</td>\n",
              "      <td>1.20</td>\n",
              "      <td>68.0</td>\n",
              "      <td>0.017843</td>\n",
              "    </tr>\n",
              "    <tr>\n",
              "      <th>EU</th>\n",
              "      <td>219.0</td>\n",
              "      <td>122.0</td>\n",
              "      <td>128.0</td>\n",
              "      <td>10.00</td>\n",
              "      <td>541.0</td>\n",
              "      <td>0.017865</td>\n",
              "    </tr>\n",
              "    <tr>\n",
              "      <th>NA</th>\n",
              "      <td>143.0</td>\n",
              "      <td>137.0</td>\n",
              "      <td>11.0</td>\n",
              "      <td>6.30</td>\n",
              "      <td>349.0</td>\n",
              "      <td>0.017818</td>\n",
              "    </tr>\n",
              "    <tr>\n",
              "      <th>OC</th>\n",
              "      <td>52.5</td>\n",
              "      <td>37.0</td>\n",
              "      <td>8.5</td>\n",
              "      <td>1.75</td>\n",
              "      <td>98.5</td>\n",
              "      <td>0.017732</td>\n",
              "    </tr>\n",
              "    <tr>\n",
              "      <th>SA</th>\n",
              "      <td>162.5</td>\n",
              "      <td>108.5</td>\n",
              "      <td>12.0</td>\n",
              "      <td>6.85</td>\n",
              "      <td>383.0</td>\n",
              "      <td>0.017786</td>\n",
              "    </tr>\n",
              "  </tbody>\n",
              "</table>\n",
              "</div>"
            ],
            "text/plain": [
              "       맥주    증류주     와인    알코올  주류소비량     알코올비율\n",
              "대륙                                             \n",
              "AF   32.0    3.0    2.0   2.30   49.0  0.021951\n",
              "AS   17.5   16.0    1.0   1.20   68.0  0.017843\n",
              "EU  219.0  122.0  128.0  10.00  541.0  0.017865\n",
              "NA  143.0  137.0   11.0   6.30  349.0  0.017818\n",
              "OC   52.5   37.0    8.5   1.75   98.5  0.017732\n",
              "SA  162.5  108.5   12.0   6.85  383.0  0.017786"
            ]
          },
          "metadata": {},
          "execution_count": 162
        }
      ]
    },
    {
      "cell_type": "code",
      "metadata": {
        "colab": {
          "base_uri": "https://localhost:8080/",
          "height": 269
        },
        "id": "OwuFLExihnCO",
        "outputId": "d39a6a11-3932-4f89-b6d7-7f223d9051ab"
      },
      "source": [
        "# [2-55] 대륙별 맥주 소비량 평균은?\n"
      ],
      "execution_count": null,
      "outputs": [
        {
          "output_type": "execute_result",
          "data": {
            "text/html": [
              "<div>\n",
              "<style scoped>\n",
              "    .dataframe tbody tr th:only-of-type {\n",
              "        vertical-align: middle;\n",
              "    }\n",
              "\n",
              "    .dataframe tbody tr th {\n",
              "        vertical-align: top;\n",
              "    }\n",
              "\n",
              "    .dataframe thead th {\n",
              "        text-align: right;\n",
              "    }\n",
              "</style>\n",
              "<table border=\"1\" class=\"dataframe\">\n",
              "  <thead>\n",
              "    <tr style=\"text-align: right;\">\n",
              "      <th></th>\n",
              "      <th>맥주</th>\n",
              "    </tr>\n",
              "    <tr>\n",
              "      <th>대륙</th>\n",
              "      <th></th>\n",
              "    </tr>\n",
              "  </thead>\n",
              "  <tbody>\n",
              "    <tr>\n",
              "      <th>AF</th>\n",
              "      <td>61.471698</td>\n",
              "    </tr>\n",
              "    <tr>\n",
              "      <th>AS</th>\n",
              "      <td>37.045455</td>\n",
              "    </tr>\n",
              "    <tr>\n",
              "      <th>EU</th>\n",
              "      <td>193.777778</td>\n",
              "    </tr>\n",
              "    <tr>\n",
              "      <th>NA</th>\n",
              "      <td>145.434783</td>\n",
              "    </tr>\n",
              "    <tr>\n",
              "      <th>OC</th>\n",
              "      <td>89.687500</td>\n",
              "    </tr>\n",
              "    <tr>\n",
              "      <th>SA</th>\n",
              "      <td>175.083333</td>\n",
              "    </tr>\n",
              "  </tbody>\n",
              "</table>\n",
              "</div>"
            ],
            "text/plain": [
              "            맥주\n",
              "대륙            \n",
              "AF   61.471698\n",
              "AS   37.045455\n",
              "EU  193.777778\n",
              "NA  145.434783\n",
              "OC   89.687500\n",
              "SA  175.083333"
            ]
          },
          "metadata": {},
          "execution_count": 166
        }
      ]
    },
    {
      "cell_type": "code",
      "metadata": {
        "colab": {
          "base_uri": "https://localhost:8080/",
          "height": 175
        },
        "id": "cU6_UyvNbgu3",
        "outputId": "38bbc86c-3d75-4249-95c9-49d8c9973299"
      },
      "source": [
        "# [2-56] 전세계 맥주 소비량 평균보다 많은 맥주를 소비하는 대륙은?\n",
        "temp ="
      ],
      "execution_count": null,
      "outputs": [
        {
          "output_type": "execute_result",
          "data": {
            "text/html": [
              "<div>\n",
              "<style scoped>\n",
              "    .dataframe tbody tr th:only-of-type {\n",
              "        vertical-align: middle;\n",
              "    }\n",
              "\n",
              "    .dataframe tbody tr th {\n",
              "        vertical-align: top;\n",
              "    }\n",
              "\n",
              "    .dataframe thead th {\n",
              "        text-align: right;\n",
              "    }\n",
              "</style>\n",
              "<table border=\"1\" class=\"dataframe\">\n",
              "  <thead>\n",
              "    <tr style=\"text-align: right;\">\n",
              "      <th></th>\n",
              "      <th>맥주</th>\n",
              "    </tr>\n",
              "    <tr>\n",
              "      <th>대륙</th>\n",
              "      <th></th>\n",
              "    </tr>\n",
              "  </thead>\n",
              "  <tbody>\n",
              "    <tr>\n",
              "      <th>EU</th>\n",
              "      <td>193.777778</td>\n",
              "    </tr>\n",
              "    <tr>\n",
              "      <th>NA</th>\n",
              "      <td>145.434783</td>\n",
              "    </tr>\n",
              "    <tr>\n",
              "      <th>SA</th>\n",
              "      <td>175.083333</td>\n",
              "    </tr>\n",
              "  </tbody>\n",
              "</table>\n",
              "</div>"
            ],
            "text/plain": [
              "            맥주\n",
              "대륙            \n",
              "EU  193.777778\n",
              "NA  145.434783\n",
              "SA  175.083333"
            ]
          },
          "metadata": {},
          "execution_count": 168
        }
      ]
    },
    {
      "cell_type": "code",
      "metadata": {
        "colab": {
          "base_uri": "https://localhost:8080/",
          "height": 300
        },
        "id": "6McyT_kmlXmc",
        "outputId": "4c81e92f-8c50-4c94-829a-4d59446ddc3b"
      },
      "source": [
        "# [2-57] 대륙별 맥주와 와인 소비량의 평균, 중앙값, 최대값은?\n"
      ],
      "execution_count": null,
      "outputs": [
        {
          "output_type": "execute_result",
          "data": {
            "text/html": [
              "<div>\n",
              "<style scoped>\n",
              "    .dataframe tbody tr th:only-of-type {\n",
              "        vertical-align: middle;\n",
              "    }\n",
              "\n",
              "    .dataframe tbody tr th {\n",
              "        vertical-align: top;\n",
              "    }\n",
              "\n",
              "    .dataframe thead tr th {\n",
              "        text-align: left;\n",
              "    }\n",
              "\n",
              "    .dataframe thead tr:last-of-type th {\n",
              "        text-align: right;\n",
              "    }\n",
              "</style>\n",
              "<table border=\"1\" class=\"dataframe\">\n",
              "  <thead>\n",
              "    <tr>\n",
              "      <th></th>\n",
              "      <th colspan=\"3\" halign=\"left\">맥주</th>\n",
              "      <th colspan=\"3\" halign=\"left\">와인</th>\n",
              "    </tr>\n",
              "    <tr>\n",
              "      <th></th>\n",
              "      <th>mean</th>\n",
              "      <th>median</th>\n",
              "      <th>max</th>\n",
              "      <th>mean</th>\n",
              "      <th>median</th>\n",
              "      <th>max</th>\n",
              "    </tr>\n",
              "    <tr>\n",
              "      <th>대륙</th>\n",
              "      <th></th>\n",
              "      <th></th>\n",
              "      <th></th>\n",
              "      <th></th>\n",
              "      <th></th>\n",
              "      <th></th>\n",
              "    </tr>\n",
              "  </thead>\n",
              "  <tbody>\n",
              "    <tr>\n",
              "      <th>AF</th>\n",
              "      <td>61.471698</td>\n",
              "      <td>32.0</td>\n",
              "      <td>376</td>\n",
              "      <td>16.264151</td>\n",
              "      <td>2.0</td>\n",
              "      <td>233</td>\n",
              "    </tr>\n",
              "    <tr>\n",
              "      <th>AS</th>\n",
              "      <td>37.045455</td>\n",
              "      <td>17.5</td>\n",
              "      <td>247</td>\n",
              "      <td>9.068182</td>\n",
              "      <td>1.0</td>\n",
              "      <td>123</td>\n",
              "    </tr>\n",
              "    <tr>\n",
              "      <th>EU</th>\n",
              "      <td>193.777778</td>\n",
              "      <td>219.0</td>\n",
              "      <td>361</td>\n",
              "      <td>142.222222</td>\n",
              "      <td>128.0</td>\n",
              "      <td>370</td>\n",
              "    </tr>\n",
              "    <tr>\n",
              "      <th>NA</th>\n",
              "      <td>145.434783</td>\n",
              "      <td>143.0</td>\n",
              "      <td>285</td>\n",
              "      <td>24.521739</td>\n",
              "      <td>11.0</td>\n",
              "      <td>100</td>\n",
              "    </tr>\n",
              "    <tr>\n",
              "      <th>OC</th>\n",
              "      <td>89.687500</td>\n",
              "      <td>52.5</td>\n",
              "      <td>306</td>\n",
              "      <td>35.625000</td>\n",
              "      <td>8.5</td>\n",
              "      <td>212</td>\n",
              "    </tr>\n",
              "    <tr>\n",
              "      <th>SA</th>\n",
              "      <td>175.083333</td>\n",
              "      <td>162.5</td>\n",
              "      <td>333</td>\n",
              "      <td>62.416667</td>\n",
              "      <td>12.0</td>\n",
              "      <td>221</td>\n",
              "    </tr>\n",
              "  </tbody>\n",
              "</table>\n",
              "</div>"
            ],
            "text/plain": [
              "            맥주                      와인            \n",
              "          mean median  max        mean median  max\n",
              "대륙                                                \n",
              "AF   61.471698   32.0  376   16.264151    2.0  233\n",
              "AS   37.045455   17.5  247    9.068182    1.0  123\n",
              "EU  193.777778  219.0  361  142.222222  128.0  370\n",
              "NA  145.434783  143.0  285   24.521739   11.0  100\n",
              "OC   89.687500   52.5  306   35.625000    8.5  212\n",
              "SA  175.083333  162.5  333   62.416667   12.0  221"
            ]
          },
          "metadata": {},
          "execution_count": 169
        }
      ]
    },
    {
      "cell_type": "markdown",
      "metadata": {
        "id": "deTBMm4tY5Q4"
      },
      "source": [
        "행, 열에 모두 group을 지정하여 통계값 구하기\n",
        "- DataFrame.pivot_table(index=행방향컬럼, columns=열방향컬럼, values=집계대상컬럼, aggfunc=구할 통계값)\n",
        "- 각각에 대해 단독 또는 목록을 사용할 수 있음\n",
        "- index, columns는 범주형, values는 연속형 사용"
      ]
    },
    {
      "cell_type": "code",
      "metadata": {
        "colab": {
          "base_uri": "https://localhost:8080/",
          "height": 300
        },
        "id": "jrwBYwmBTLNZ",
        "outputId": "10fe3de6-2ca9-4b96-e0f1-d543f6d150e9"
      },
      "source": [
        "# [2-58] pivot_table을 사용하여 대륙별(index), '맥주'와 '와인'의 mean, median, max 값을 구합니다.\n",
        "# 결과 참조\n"
      ],
      "execution_count": null,
      "outputs": [
        {
          "output_type": "execute_result",
          "data": {
            "text/html": [
              "<div>\n",
              "<style scoped>\n",
              "    .dataframe tbody tr th:only-of-type {\n",
              "        vertical-align: middle;\n",
              "    }\n",
              "\n",
              "    .dataframe tbody tr th {\n",
              "        vertical-align: top;\n",
              "    }\n",
              "\n",
              "    .dataframe thead tr th {\n",
              "        text-align: left;\n",
              "    }\n",
              "\n",
              "    .dataframe thead tr:last-of-type th {\n",
              "        text-align: right;\n",
              "    }\n",
              "</style>\n",
              "<table border=\"1\" class=\"dataframe\">\n",
              "  <thead>\n",
              "    <tr>\n",
              "      <th></th>\n",
              "      <th colspan=\"2\" halign=\"left\">mean</th>\n",
              "      <th colspan=\"2\" halign=\"left\">median</th>\n",
              "      <th colspan=\"2\" halign=\"left\">max</th>\n",
              "    </tr>\n",
              "    <tr>\n",
              "      <th></th>\n",
              "      <th>맥주</th>\n",
              "      <th>와인</th>\n",
              "      <th>맥주</th>\n",
              "      <th>와인</th>\n",
              "      <th>맥주</th>\n",
              "      <th>와인</th>\n",
              "    </tr>\n",
              "    <tr>\n",
              "      <th>대륙</th>\n",
              "      <th></th>\n",
              "      <th></th>\n",
              "      <th></th>\n",
              "      <th></th>\n",
              "      <th></th>\n",
              "      <th></th>\n",
              "    </tr>\n",
              "  </thead>\n",
              "  <tbody>\n",
              "    <tr>\n",
              "      <th>AF</th>\n",
              "      <td>61.471698</td>\n",
              "      <td>16.264151</td>\n",
              "      <td>32.0</td>\n",
              "      <td>2.0</td>\n",
              "      <td>376</td>\n",
              "      <td>233</td>\n",
              "    </tr>\n",
              "    <tr>\n",
              "      <th>AS</th>\n",
              "      <td>37.045455</td>\n",
              "      <td>9.068182</td>\n",
              "      <td>17.5</td>\n",
              "      <td>1.0</td>\n",
              "      <td>247</td>\n",
              "      <td>123</td>\n",
              "    </tr>\n",
              "    <tr>\n",
              "      <th>EU</th>\n",
              "      <td>193.777778</td>\n",
              "      <td>142.222222</td>\n",
              "      <td>219.0</td>\n",
              "      <td>128.0</td>\n",
              "      <td>361</td>\n",
              "      <td>370</td>\n",
              "    </tr>\n",
              "    <tr>\n",
              "      <th>NA</th>\n",
              "      <td>145.434783</td>\n",
              "      <td>24.521739</td>\n",
              "      <td>143.0</td>\n",
              "      <td>11.0</td>\n",
              "      <td>285</td>\n",
              "      <td>100</td>\n",
              "    </tr>\n",
              "    <tr>\n",
              "      <th>OC</th>\n",
              "      <td>89.687500</td>\n",
              "      <td>35.625000</td>\n",
              "      <td>52.5</td>\n",
              "      <td>8.5</td>\n",
              "      <td>306</td>\n",
              "      <td>212</td>\n",
              "    </tr>\n",
              "    <tr>\n",
              "      <th>SA</th>\n",
              "      <td>175.083333</td>\n",
              "      <td>62.416667</td>\n",
              "      <td>162.5</td>\n",
              "      <td>12.0</td>\n",
              "      <td>333</td>\n",
              "      <td>221</td>\n",
              "    </tr>\n",
              "  </tbody>\n",
              "</table>\n",
              "</div>"
            ],
            "text/plain": [
              "          mean             median         max     \n",
              "            맥주          와인     맥주     와인   맥주   와인\n",
              "대륙                                                \n",
              "AF   61.471698   16.264151   32.0    2.0  376  233\n",
              "AS   37.045455    9.068182   17.5    1.0  247  123\n",
              "EU  193.777778  142.222222  219.0  128.0  361  370\n",
              "NA  145.434783   24.521739  143.0   11.0  285  100\n",
              "OC   89.687500   35.625000   52.5    8.5  306  212\n",
              "SA  175.083333   62.416667  162.5   12.0  333  221"
            ]
          },
          "metadata": {},
          "execution_count": 170
        }
      ]
    },
    {
      "cell_type": "code",
      "metadata": {
        "colab": {
          "base_uri": "https://localhost:8080/",
          "height": 173
        },
        "id": "nzRmeYwmasDI",
        "outputId": "424ac713-6647-4285-ee61-9bd19dbab9a8"
      },
      "source": [
        "# [2-59] pivot_table을 사용하여 대륙별(columns), '맥주'와 '와인'의 mean, median값을 구합니다.\n",
        "# 결과 참조\n"
      ],
      "execution_count": null,
      "outputs": [
        {
          "output_type": "execute_result",
          "data": {
            "text/html": [
              "<div>\n",
              "<style scoped>\n",
              "    .dataframe tbody tr th:only-of-type {\n",
              "        vertical-align: middle;\n",
              "    }\n",
              "\n",
              "    .dataframe tbody tr th {\n",
              "        vertical-align: top;\n",
              "    }\n",
              "\n",
              "    .dataframe thead tr th {\n",
              "        text-align: left;\n",
              "    }\n",
              "</style>\n",
              "<table border=\"1\" class=\"dataframe\">\n",
              "  <thead>\n",
              "    <tr>\n",
              "      <th></th>\n",
              "      <th colspan=\"5\" halign=\"left\">mean</th>\n",
              "      <th>...</th>\n",
              "      <th colspan=\"5\" halign=\"left\">median</th>\n",
              "    </tr>\n",
              "    <tr>\n",
              "      <th>대륙</th>\n",
              "      <th>AF</th>\n",
              "      <th>AS</th>\n",
              "      <th>EU</th>\n",
              "      <th>NA</th>\n",
              "      <th>OC</th>\n",
              "      <th>...</th>\n",
              "      <th>AS</th>\n",
              "      <th>EU</th>\n",
              "      <th>NA</th>\n",
              "      <th>OC</th>\n",
              "      <th>SA</th>\n",
              "    </tr>\n",
              "  </thead>\n",
              "  <tbody>\n",
              "    <tr>\n",
              "      <th>맥주</th>\n",
              "      <td>61.471698</td>\n",
              "      <td>37.045455</td>\n",
              "      <td>193.777778</td>\n",
              "      <td>145.434783</td>\n",
              "      <td>89.6875</td>\n",
              "      <td>...</td>\n",
              "      <td>17.5</td>\n",
              "      <td>219.0</td>\n",
              "      <td>143.0</td>\n",
              "      <td>52.5</td>\n",
              "      <td>162.5</td>\n",
              "    </tr>\n",
              "    <tr>\n",
              "      <th>와인</th>\n",
              "      <td>16.264151</td>\n",
              "      <td>9.068182</td>\n",
              "      <td>142.222222</td>\n",
              "      <td>24.521739</td>\n",
              "      <td>35.6250</td>\n",
              "      <td>...</td>\n",
              "      <td>1.0</td>\n",
              "      <td>128.0</td>\n",
              "      <td>11.0</td>\n",
              "      <td>8.5</td>\n",
              "      <td>12.0</td>\n",
              "    </tr>\n",
              "  </tbody>\n",
              "</table>\n",
              "<p>2 rows × 12 columns</p>\n",
              "</div>"
            ],
            "text/plain": [
              "         mean                                              ... median         \\\n",
              "대륙         AF         AS          EU          NA       OC  ...     AS     EU   \n",
              "맥주  61.471698  37.045455  193.777778  145.434783  89.6875  ...   17.5  219.0   \n",
              "와인  16.264151   9.068182  142.222222   24.521739  35.6250  ...    1.0  128.0   \n",
              "\n",
              "                        \n",
              "대륙     NA    OC     SA  \n",
              "맥주  143.0  52.5  162.5  \n",
              "와인   11.0   8.5   12.0  \n",
              "\n",
              "[2 rows x 12 columns]"
            ]
          },
          "metadata": {},
          "execution_count": 171
        }
      ]
    },
    {
      "cell_type": "code",
      "metadata": {
        "colab": {
          "base_uri": "https://localhost:8080/",
          "height": 300
        },
        "id": "A6V2G_SHZ8sn",
        "outputId": "80e48a64-90fc-4898-e1a2-d5d07e26e4dc"
      },
      "source": [
        "# [2-60] groupby를 사용하여 대륙별, '맥주'와 '와인'의 mean, median, max 값을 구합니다.\n"
      ],
      "execution_count": null,
      "outputs": [
        {
          "output_type": "execute_result",
          "data": {
            "text/html": [
              "<div>\n",
              "<style scoped>\n",
              "    .dataframe tbody tr th:only-of-type {\n",
              "        vertical-align: middle;\n",
              "    }\n",
              "\n",
              "    .dataframe tbody tr th {\n",
              "        vertical-align: top;\n",
              "    }\n",
              "\n",
              "    .dataframe thead tr th {\n",
              "        text-align: left;\n",
              "    }\n",
              "\n",
              "    .dataframe thead tr:last-of-type th {\n",
              "        text-align: right;\n",
              "    }\n",
              "</style>\n",
              "<table border=\"1\" class=\"dataframe\">\n",
              "  <thead>\n",
              "    <tr>\n",
              "      <th></th>\n",
              "      <th colspan=\"3\" halign=\"left\">맥주</th>\n",
              "      <th colspan=\"3\" halign=\"left\">와인</th>\n",
              "    </tr>\n",
              "    <tr>\n",
              "      <th></th>\n",
              "      <th>mean</th>\n",
              "      <th>median</th>\n",
              "      <th>max</th>\n",
              "      <th>mean</th>\n",
              "      <th>median</th>\n",
              "      <th>max</th>\n",
              "    </tr>\n",
              "    <tr>\n",
              "      <th>대륙</th>\n",
              "      <th></th>\n",
              "      <th></th>\n",
              "      <th></th>\n",
              "      <th></th>\n",
              "      <th></th>\n",
              "      <th></th>\n",
              "    </tr>\n",
              "  </thead>\n",
              "  <tbody>\n",
              "    <tr>\n",
              "      <th>AF</th>\n",
              "      <td>61.471698</td>\n",
              "      <td>32.0</td>\n",
              "      <td>376</td>\n",
              "      <td>16.264151</td>\n",
              "      <td>2.0</td>\n",
              "      <td>233</td>\n",
              "    </tr>\n",
              "    <tr>\n",
              "      <th>AS</th>\n",
              "      <td>37.045455</td>\n",
              "      <td>17.5</td>\n",
              "      <td>247</td>\n",
              "      <td>9.068182</td>\n",
              "      <td>1.0</td>\n",
              "      <td>123</td>\n",
              "    </tr>\n",
              "    <tr>\n",
              "      <th>EU</th>\n",
              "      <td>193.777778</td>\n",
              "      <td>219.0</td>\n",
              "      <td>361</td>\n",
              "      <td>142.222222</td>\n",
              "      <td>128.0</td>\n",
              "      <td>370</td>\n",
              "    </tr>\n",
              "    <tr>\n",
              "      <th>NA</th>\n",
              "      <td>145.434783</td>\n",
              "      <td>143.0</td>\n",
              "      <td>285</td>\n",
              "      <td>24.521739</td>\n",
              "      <td>11.0</td>\n",
              "      <td>100</td>\n",
              "    </tr>\n",
              "    <tr>\n",
              "      <th>OC</th>\n",
              "      <td>89.687500</td>\n",
              "      <td>52.5</td>\n",
              "      <td>306</td>\n",
              "      <td>35.625000</td>\n",
              "      <td>8.5</td>\n",
              "      <td>212</td>\n",
              "    </tr>\n",
              "    <tr>\n",
              "      <th>SA</th>\n",
              "      <td>175.083333</td>\n",
              "      <td>162.5</td>\n",
              "      <td>333</td>\n",
              "      <td>62.416667</td>\n",
              "      <td>12.0</td>\n",
              "      <td>221</td>\n",
              "    </tr>\n",
              "  </tbody>\n",
              "</table>\n",
              "</div>"
            ],
            "text/plain": [
              "            맥주                      와인            \n",
              "          mean median  max        mean median  max\n",
              "대륙                                                \n",
              "AF   61.471698   32.0  376   16.264151    2.0  233\n",
              "AS   37.045455   17.5  247    9.068182    1.0  123\n",
              "EU  193.777778  219.0  361  142.222222  128.0  370\n",
              "NA  145.434783  143.0  285   24.521739   11.0  100\n",
              "OC   89.687500   52.5  306   35.625000    8.5  212\n",
              "SA  175.083333  162.5  333   62.416667   12.0  221"
            ]
          },
          "metadata": {},
          "execution_count": 172
        }
      ]
    },
    {
      "cell_type": "code",
      "metadata": {
        "id": "PDYrrwUKUzYv"
      },
      "source": [
        "# ^^  고생하셨습니다."
      ],
      "execution_count": null,
      "outputs": []
    }
  ]
}