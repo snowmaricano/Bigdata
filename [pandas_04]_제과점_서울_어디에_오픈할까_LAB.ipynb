{
  "nbformat": 4,
  "nbformat_minor": 0,
  "metadata": {
    "colab": {
      "provenance": [],
      "toc_visible": true,
      "include_colab_link": true
    },
    "kernelspec": {
      "name": "python3",
      "display_name": "Python 3"
    },
    "language_info": {
      "name": "python"
    }
  },
  "cells": [
    {
      "cell_type": "markdown",
      "metadata": {
        "id": "view-in-github",
        "colab_type": "text"
      },
      "source": [
        "<a href=\"https://colab.research.google.com/github/snowmaricano/Bigdata/blob/main/%5Bpandas_04%5D_%EC%A0%9C%EA%B3%BC%EC%A0%90_%EC%84%9C%EC%9A%B8_%EC%96%B4%EB%94%94%EC%97%90_%EC%98%A4%ED%94%88%ED%95%A0%EA%B9%8C_LAB.ipynb\" target=\"_parent\"><img src=\"https://colab.research.google.com/assets/colab-badge.svg\" alt=\"Open In Colab\"/></a>"
      ]
    },
    {
      "cell_type": "markdown",
      "metadata": {
        "id": "vwBqwrVA-m2T"
      },
      "source": [
        "## 1.파일 다운로드"
      ]
    },
    {
      "cell_type": "code",
      "metadata": {
        "id": "DF4tkQEg-iVL",
        "colab": {
          "base_uri": "https://localhost:8080/"
        },
        "outputId": "0f363e12-cc61-435d-fd22-2e83c83a0e8d"
      },
      "source": [
        "!git clone https://github.com/Soyoung-Yoon/data_03"
      ],
      "execution_count": null,
      "outputs": [
        {
          "output_type": "stream",
          "name": "stdout",
          "text": [
            "Cloning into 'data_03'...\n",
            "remote: Enumerating objects: 8, done.\u001b[K\n",
            "remote: Counting objects: 100% (8/8), done.\u001b[K\n",
            "remote: Compressing objects: 100% (8/8), done.\u001b[K\n",
            "remote: Total 8 (delta 0), reused 0 (delta 0), pack-reused 0\u001b[K\n",
            "Unpacking objects: 100% (8/8), 4.97 MiB | 3.03 MiB/s, done.\n"
          ]
        }
      ]
    },
    {
      "cell_type": "markdown",
      "metadata": {
        "id": "zfb0qkWpO7IV"
      },
      "source": [
        "## 2.Colab에서 한글 폰트 사용하기"
      ]
    },
    {
      "cell_type": "code",
      "metadata": {
        "id": "Ju01GX7OVddk"
      },
      "source": [
        "### [230417]변경안내\n",
        "# colab에서 matplotlib의 버전이 변경되면서\n",
        "# koreanize_matplotlib 사용이 가능해 졌습니다.\n",
        "# 아래의 설치 후, import koreanize_matplotlib 를 한 뒤 사용하시면 됩니다."
      ],
      "execution_count": null,
      "outputs": []
    },
    {
      "cell_type": "code",
      "metadata": {
        "id": "8PslbHCwWqCM"
      },
      "source": [
        "!pip install koreanize-matplotlib"
      ],
      "execution_count": null,
      "outputs": []
    },
    {
      "cell_type": "code",
      "metadata": {
        "id": "8jXofBbYWogX"
      },
      "source": [
        "# 사용 예시!\n",
        "import matplotlib.pyplot as plt\n",
        "import koreanize_matplotlib\n",
        "plt.figure(figsize=(4,3))\n",
        "plt.plot([-1, 0, 1, 2])\n",
        "plt.xlabel('간단한 그래프')\n",
        "plt.show()"
      ],
      "execution_count": null,
      "outputs": []
    },
    {
      "cell_type": "code",
      "source": [
        "# <그래프 그리기 전용> - 사용할 데이터 프레임 만들기\n",
        "# 1. 파일 다운로드\n",
        "# 2. Colab에서 한글 폰트 사용하시 실행\n",
        "# 3. 아래의 데이터 프레임 만들기 실행\n",
        "import pandas as pd\n",
        "import matplotlib.pyplot as plt\n",
        "import seaborn as sns\n",
        "import warnings\n",
        "import koreanize_matplotlib\n",
        "\n",
        "warnings.filterwarnings('ignore')\n",
        "\n",
        "df = pd.read_csv('./data_03/bread_data.csv', encoding='cp949', dtype={'건물소유구분명': object, '전통업소지정번호': object})\n",
        "bread = df[['인허가일자', '상세영업상태코드', '폐업일자', '소재지전체주소', '사업장명', '업태구분명']]\n",
        "condition1 = bread['소재지전체주소'].str.split().str[0] == '서울특별시'\n",
        "condition2 = bread['업태구분명'] == '제과점영업'\n",
        "bread = bread[condition1 & condition2]\n",
        "bread['구명'] = bread['소재지전체주소'].str.split().str[1]\n",
        "bread['동명'] = bread['소재지전체주소'].str.split().str[2]\n",
        "bread['폐업일자'] = bread['폐업일자'].fillna(0.0).astype('int64')\n",
        "bread = bread.drop(columns=['소재지전체주소', '업태구분명'])\n",
        "bread = bread.rename(columns={'상세영업상태코드': '상태코드'})\n",
        "bread['설립년도'] = bread['인허가일자'] // 10000\n",
        "bread['폐업년도'] = bread['폐업일자'] // 10000\n",
        "nyear = 2021\n",
        "bread.loc[bread['상태코드']==1,'영업기간'] = nyear - bread['설립년도'] + 1\n",
        "bread.loc[bread['상태코드']==2,'영업기간'] = bread['폐업년도'] - bread['설립년도'] + 1\n",
        "func = lambda x : (nyear - x['설립년도'] + 1) if x['상태코드']==1 else (x['폐업년도'] - x['설립년도'] + 1)\n",
        "bread['영업기간'] = bread.apply(func, axis=1)\n",
        "temp1 = bread['설립년도'].value_counts().sort_index().to_frame().T\n",
        "temp2 = bread['폐업년도'].value_counts().sort_index().to_frame().T\n",
        "temp = pd.concat([temp1, temp2], axis=0, join='outer')\n",
        "temp = temp.fillna(0).astype('int64')\n",
        "temp\n",
        "# [4-25]로 가서 그래프 실행"
      ],
      "metadata": {
        "id": "LR7YFTbkLLsp",
        "colab": {
          "base_uri": "https://localhost:8080/",
          "height": 309
        },
        "outputId": "f5faffde-9a45-4d3a-cde9-ee0ede9d011d"
      },
      "execution_count": null,
      "outputs": [
        {
          "output_type": "execute_result",
          "data": {
            "text/plain": [
              "      1952  1965  1966  1967  1968  1969  1970  1971  1972  1973  ...  2013  \\\n",
              "설립년도     1     1     1    11     5    10    20    12     9     5  ...   431   \n",
              "폐업년도     0     0     0     0     0     0     0     0     0     0  ...   374   \n",
              "\n",
              "      2014  2015  2016  2017  2018  2019  2020  2021  0     \n",
              "설립년도   474   572   644   623   538   546   502   433     0  \n",
              "폐업년도   396   447   469   612   518   514   515   349  3955  \n",
              "\n",
              "[2 rows x 59 columns]"
            ],
            "text/html": [
              "\n",
              "  <div id=\"df-a0f70de2-baf2-47f8-8d15-6460e739b28e\">\n",
              "    <div class=\"colab-df-container\">\n",
              "      <div>\n",
              "<style scoped>\n",
              "    .dataframe tbody tr th:only-of-type {\n",
              "        vertical-align: middle;\n",
              "    }\n",
              "\n",
              "    .dataframe tbody tr th {\n",
              "        vertical-align: top;\n",
              "    }\n",
              "\n",
              "    .dataframe thead th {\n",
              "        text-align: right;\n",
              "    }\n",
              "</style>\n",
              "<table border=\"1\" class=\"dataframe\">\n",
              "  <thead>\n",
              "    <tr style=\"text-align: right;\">\n",
              "      <th></th>\n",
              "      <th>1952</th>\n",
              "      <th>1965</th>\n",
              "      <th>1966</th>\n",
              "      <th>1967</th>\n",
              "      <th>1968</th>\n",
              "      <th>1969</th>\n",
              "      <th>1970</th>\n",
              "      <th>1971</th>\n",
              "      <th>1972</th>\n",
              "      <th>1973</th>\n",
              "      <th>...</th>\n",
              "      <th>2013</th>\n",
              "      <th>2014</th>\n",
              "      <th>2015</th>\n",
              "      <th>2016</th>\n",
              "      <th>2017</th>\n",
              "      <th>2018</th>\n",
              "      <th>2019</th>\n",
              "      <th>2020</th>\n",
              "      <th>2021</th>\n",
              "      <th>0</th>\n",
              "    </tr>\n",
              "  </thead>\n",
              "  <tbody>\n",
              "    <tr>\n",
              "      <th>설립년도</th>\n",
              "      <td>1</td>\n",
              "      <td>1</td>\n",
              "      <td>1</td>\n",
              "      <td>11</td>\n",
              "      <td>5</td>\n",
              "      <td>10</td>\n",
              "      <td>20</td>\n",
              "      <td>12</td>\n",
              "      <td>9</td>\n",
              "      <td>5</td>\n",
              "      <td>...</td>\n",
              "      <td>431</td>\n",
              "      <td>474</td>\n",
              "      <td>572</td>\n",
              "      <td>644</td>\n",
              "      <td>623</td>\n",
              "      <td>538</td>\n",
              "      <td>546</td>\n",
              "      <td>502</td>\n",
              "      <td>433</td>\n",
              "      <td>0</td>\n",
              "    </tr>\n",
              "    <tr>\n",
              "      <th>폐업년도</th>\n",
              "      <td>0</td>\n",
              "      <td>0</td>\n",
              "      <td>0</td>\n",
              "      <td>0</td>\n",
              "      <td>0</td>\n",
              "      <td>0</td>\n",
              "      <td>0</td>\n",
              "      <td>0</td>\n",
              "      <td>0</td>\n",
              "      <td>0</td>\n",
              "      <td>...</td>\n",
              "      <td>374</td>\n",
              "      <td>396</td>\n",
              "      <td>447</td>\n",
              "      <td>469</td>\n",
              "      <td>612</td>\n",
              "      <td>518</td>\n",
              "      <td>514</td>\n",
              "      <td>515</td>\n",
              "      <td>349</td>\n",
              "      <td>3955</td>\n",
              "    </tr>\n",
              "  </tbody>\n",
              "</table>\n",
              "<p>2 rows × 59 columns</p>\n",
              "</div>\n",
              "      <button class=\"colab-df-convert\" onclick=\"convertToInteractive('df-a0f70de2-baf2-47f8-8d15-6460e739b28e')\"\n",
              "              title=\"Convert this dataframe to an interactive table.\"\n",
              "              style=\"display:none;\">\n",
              "        \n",
              "  <svg xmlns=\"http://www.w3.org/2000/svg\" height=\"24px\"viewBox=\"0 0 24 24\"\n",
              "       width=\"24px\">\n",
              "    <path d=\"M0 0h24v24H0V0z\" fill=\"none\"/>\n",
              "    <path d=\"M18.56 5.44l.94 2.06.94-2.06 2.06-.94-2.06-.94-.94-2.06-.94 2.06-2.06.94zm-11 1L8.5 8.5l.94-2.06 2.06-.94-2.06-.94L8.5 2.5l-.94 2.06-2.06.94zm10 10l.94 2.06.94-2.06 2.06-.94-2.06-.94-.94-2.06-.94 2.06-2.06.94z\"/><path d=\"M17.41 7.96l-1.37-1.37c-.4-.4-.92-.59-1.43-.59-.52 0-1.04.2-1.43.59L10.3 9.45l-7.72 7.72c-.78.78-.78 2.05 0 2.83L4 21.41c.39.39.9.59 1.41.59.51 0 1.02-.2 1.41-.59l7.78-7.78 2.81-2.81c.8-.78.8-2.07 0-2.86zM5.41 20L4 18.59l7.72-7.72 1.47 1.35L5.41 20z\"/>\n",
              "  </svg>\n",
              "      </button>\n",
              "      \n",
              "  <style>\n",
              "    .colab-df-container {\n",
              "      display:flex;\n",
              "      flex-wrap:wrap;\n",
              "      gap: 12px;\n",
              "    }\n",
              "\n",
              "    .colab-df-convert {\n",
              "      background-color: #E8F0FE;\n",
              "      border: none;\n",
              "      border-radius: 50%;\n",
              "      cursor: pointer;\n",
              "      display: none;\n",
              "      fill: #1967D2;\n",
              "      height: 32px;\n",
              "      padding: 0 0 0 0;\n",
              "      width: 32px;\n",
              "    }\n",
              "\n",
              "    .colab-df-convert:hover {\n",
              "      background-color: #E2EBFA;\n",
              "      box-shadow: 0px 1px 2px rgba(60, 64, 67, 0.3), 0px 1px 3px 1px rgba(60, 64, 67, 0.15);\n",
              "      fill: #174EA6;\n",
              "    }\n",
              "\n",
              "    [theme=dark] .colab-df-convert {\n",
              "      background-color: #3B4455;\n",
              "      fill: #D2E3FC;\n",
              "    }\n",
              "\n",
              "    [theme=dark] .colab-df-convert:hover {\n",
              "      background-color: #434B5C;\n",
              "      box-shadow: 0px 1px 3px 1px rgba(0, 0, 0, 0.15);\n",
              "      filter: drop-shadow(0px 1px 2px rgba(0, 0, 0, 0.3));\n",
              "      fill: #FFFFFF;\n",
              "    }\n",
              "  </style>\n",
              "\n",
              "      <script>\n",
              "        const buttonEl =\n",
              "          document.querySelector('#df-a0f70de2-baf2-47f8-8d15-6460e739b28e button.colab-df-convert');\n",
              "        buttonEl.style.display =\n",
              "          google.colab.kernel.accessAllowed ? 'block' : 'none';\n",
              "\n",
              "        async function convertToInteractive(key) {\n",
              "          const element = document.querySelector('#df-a0f70de2-baf2-47f8-8d15-6460e739b28e');\n",
              "          const dataTable =\n",
              "            await google.colab.kernel.invokeFunction('convertToInteractive',\n",
              "                                                     [key], {});\n",
              "          if (!dataTable) return;\n",
              "\n",
              "          const docLinkHtml = 'Like what you see? Visit the ' +\n",
              "            '<a target=\"_blank\" href=https://colab.research.google.com/notebooks/data_table.ipynb>data table notebook</a>'\n",
              "            + ' to learn more about interactive tables.';\n",
              "          element.innerHTML = '';\n",
              "          dataTable['output_type'] = 'display_data';\n",
              "          await google.colab.output.renderOutput(dataTable, element);\n",
              "          const docLink = document.createElement('div');\n",
              "          docLink.innerHTML = docLinkHtml;\n",
              "          element.appendChild(docLink);\n",
              "        }\n",
              "      </script>\n",
              "    </div>\n",
              "  </div>\n",
              "  "
            ]
          },
          "metadata": {},
          "execution_count": 5
        }
      ]
    },
    {
      "cell_type": "markdown",
      "metadata": {
        "id": "MuuEZfEi_diS"
      },
      "source": [
        "## 3.제과점 오픈 프로젝트"
      ]
    },
    {
      "cell_type": "code",
      "metadata": {
        "id": "xbjiSFbaqRE8"
      },
      "source": [
        "# [4-0] 사용라이브러리 import\n",
        "import pandas as pd\n",
        "import matplotlib.pyplot as plt\n",
        "import seaborn as sns"
      ],
      "execution_count": null,
      "outputs": []
    },
    {
      "cell_type": "markdown",
      "metadata": {
        "id": "MNGmMUpenWGe"
      },
      "source": [
        "### 3-1.파일 읽어오기\n",
        "- csv 파일 : pd.read_csv('파일이름', encoding='cp949', low_memory=False)\n",
        "   - encoding='cp949' : 한글이 포함되어 있는 경우 encoding 방식을 지정\n",
        "   - low_memory=False : column에 여러 type의 데이터가 섞여 있으면 DtypeWarning이 발생하며 이때, dtype option으로 타입을 명시해주거나 low_memory=False를 사용한다.\n"
      ]
    },
    {
      "cell_type": "code",
      "metadata": {
        "id": "UpBj0jvsqf7R"
      },
      "source": [
        "# [4-1] 제과점에 대한 파일 './data_03/bread_data.csv'을\n",
        "# encoding='cp949' 를 사용하여 읽어와 df라는 이름을 붙인다\n",
        "# low_memory=False 또는 dtype={'건물소유구분명': object, '전통업소지정번호': object}를 사용하여 Warning를 제거할 수 있음\n"
      ],
      "execution_count": null,
      "outputs": []
    },
    {
      "cell_type": "markdown",
      "metadata": {
        "id": "EPqAgfCarnoS"
      },
      "source": [
        "### 3-2.데이터 구조 확인\n",
        "- DataFrame.shape : 데이터 프레임의 행, 열의 수를 tuple로 반환\n",
        "- DataFrame.head(n=5) : 처음부터 n개 행의 데이터 가져오기\n",
        "- DataFrame.tail(n=5) : 마지막 n개 행의 데이터 가져오기\n",
        "- DataFrame.info(memory_usage='deep') : 데이터 프레임의 row 개수 및 각 column의 Non null, dtype 정보 및 메모리 사용량을 확인함"
      ]
    },
    {
      "cell_type": "code",
      "metadata": {
        "id": "yUbJt5VYq4iP"
      },
      "source": [
        "# [4-2] df의 행, 열의 개수를 확인한다\n"
      ],
      "execution_count": null,
      "outputs": []
    },
    {
      "cell_type": "code",
      "metadata": {
        "id": "b77flU7HrVxi"
      },
      "source": [
        "# [4-3] df의 첫 1개 열을 출력해 확인한다\n"
      ],
      "execution_count": null,
      "outputs": []
    },
    {
      "cell_type": "code",
      "metadata": {
        "id": "bw11XNypyX-U"
      },
      "source": [
        "# [4-4] df의 행, 열에 대한 개수, 각 열 별 데이터 개수 및 dtype,\n",
        "# 메모리 사용량을 확인합니다.\n"
      ],
      "execution_count": null,
      "outputs": []
    },
    {
      "cell_type": "markdown",
      "metadata": {
        "id": "NDa7bgUKsyzi"
      },
      "source": [
        "DataFrame의 한 개의 column은 Series이다.\n",
        "- DataFrame[컬럼명] : 컬럼 1개를 Series로 반환함\n",
        "- DataFrame[[컬럼명1, 컬럼명2, ...]] : 컬럼 목록에 있는 컬럼을 가져옴\n",
        "    - 컬럼 목록에 1개의 컬럼만 있어도 DataFrame이 반환됨\n",
        "\n",
        "Series.value_counts() : 데이터 별 개수를 Series로 반환\n",
        "- NA Value가 있다면 불포함"
      ]
    },
    {
      "cell_type": "code",
      "metadata": {
        "id": "k7OTt7GsykXw",
        "colab": {
          "base_uri": "https://localhost:8080/"
        },
        "outputId": "363ca62c-21bd-4127-ef74-62528b24e000"
      },
      "source": [
        "# [4-5] df의 '상세영업상태명'에 대해 값별 개수를 구합니다.\n"
      ],
      "execution_count": null,
      "outputs": [
        {
          "output_type": "execute_result",
          "data": {
            "text/plain": [
              "폐업    33669\n",
              "영업    19011\n",
              "Name: 상세영업상태명, dtype: int64"
            ]
          },
          "metadata": {},
          "execution_count": 47
        }
      ]
    },
    {
      "cell_type": "code",
      "metadata": {
        "id": "fBo3FeRqyrz1",
        "colab": {
          "base_uri": "https://localhost:8080/"
        },
        "outputId": "cbedcc7c-92be-4148-f473-9e6785889ea2"
      },
      "source": [
        "# [4-6] df의 '상세영업상태코드'에 대해 값별 개수를 구합니다.\n",
        "# 1: 영업, 2: 폐업\n",
        "\n"
      ],
      "execution_count": null,
      "outputs": [
        {
          "output_type": "execute_result",
          "data": {
            "text/plain": [
              "2    33669\n",
              "1    19011\n",
              "Name: 상세영업상태코드, dtype: int64"
            ]
          },
          "metadata": {},
          "execution_count": 48
        }
      ]
    },
    {
      "cell_type": "code",
      "metadata": {
        "id": "sBwlc3mPzJ04",
        "colab": {
          "base_uri": "https://localhost:8080/",
          "height": 257
        },
        "outputId": "8662242a-2269-470d-a262-9221b02f7240"
      },
      "source": [
        "# [4-7] df의 컬럼 중에\n",
        "# '인허가일자', '상세영업상태코드', '폐업일자', '소재지전체주소', '사업장명', '업태구분명'만 가져옵니다.\n",
        "# 이름을 bread로 정하고, 처음부터 3개 행을 출력해 봅니다.\n"
      ],
      "execution_count": null,
      "outputs": [
        {
          "output_type": "execute_result",
          "data": {
            "text/plain": [
              "      인허가일자  상세영업상태코드  폐업일자                                소재지전체주소  \\\n",
              "0  20130201         1   NaN       광주광역시 서구 치평동 1177-2번지 (106,107호)   \n",
              "1  20130318         1   NaN            광주광역시 서구 유촌동 868-1번지 (102호)   \n",
              "2  20130417         1   NaN  광주광역시 서구 화정동 1611번지 101호102호103호 상가2동   \n",
              "\n",
              "          사업장명  업태구분명  \n",
              "0     뚜레쥬르상무역점  제과점영업  \n",
              "1  뚜레쥬르광주버들마을점  제과점영업  \n",
              "2   파리바게뜨화정현대점  제과점영업  "
            ],
            "text/html": [
              "\n",
              "  <div id=\"df-64d21f18-ae53-4bc7-8c8f-5a02b5f0e4de\">\n",
              "    <div class=\"colab-df-container\">\n",
              "      <div>\n",
              "<style scoped>\n",
              "    .dataframe tbody tr th:only-of-type {\n",
              "        vertical-align: middle;\n",
              "    }\n",
              "\n",
              "    .dataframe tbody tr th {\n",
              "        vertical-align: top;\n",
              "    }\n",
              "\n",
              "    .dataframe thead th {\n",
              "        text-align: right;\n",
              "    }\n",
              "</style>\n",
              "<table border=\"1\" class=\"dataframe\">\n",
              "  <thead>\n",
              "    <tr style=\"text-align: right;\">\n",
              "      <th></th>\n",
              "      <th>인허가일자</th>\n",
              "      <th>상세영업상태코드</th>\n",
              "      <th>폐업일자</th>\n",
              "      <th>소재지전체주소</th>\n",
              "      <th>사업장명</th>\n",
              "      <th>업태구분명</th>\n",
              "    </tr>\n",
              "  </thead>\n",
              "  <tbody>\n",
              "    <tr>\n",
              "      <th>0</th>\n",
              "      <td>20130201</td>\n",
              "      <td>1</td>\n",
              "      <td>NaN</td>\n",
              "      <td>광주광역시 서구 치평동 1177-2번지 (106,107호)</td>\n",
              "      <td>뚜레쥬르상무역점</td>\n",
              "      <td>제과점영업</td>\n",
              "    </tr>\n",
              "    <tr>\n",
              "      <th>1</th>\n",
              "      <td>20130318</td>\n",
              "      <td>1</td>\n",
              "      <td>NaN</td>\n",
              "      <td>광주광역시 서구 유촌동 868-1번지 (102호)</td>\n",
              "      <td>뚜레쥬르광주버들마을점</td>\n",
              "      <td>제과점영업</td>\n",
              "    </tr>\n",
              "    <tr>\n",
              "      <th>2</th>\n",
              "      <td>20130417</td>\n",
              "      <td>1</td>\n",
              "      <td>NaN</td>\n",
              "      <td>광주광역시 서구 화정동 1611번지 101호102호103호 상가2동</td>\n",
              "      <td>파리바게뜨화정현대점</td>\n",
              "      <td>제과점영업</td>\n",
              "    </tr>\n",
              "  </tbody>\n",
              "</table>\n",
              "</div>\n",
              "      <button class=\"colab-df-convert\" onclick=\"convertToInteractive('df-64d21f18-ae53-4bc7-8c8f-5a02b5f0e4de')\"\n",
              "              title=\"Convert this dataframe to an interactive table.\"\n",
              "              style=\"display:none;\">\n",
              "        \n",
              "  <svg xmlns=\"http://www.w3.org/2000/svg\" height=\"24px\"viewBox=\"0 0 24 24\"\n",
              "       width=\"24px\">\n",
              "    <path d=\"M0 0h24v24H0V0z\" fill=\"none\"/>\n",
              "    <path d=\"M18.56 5.44l.94 2.06.94-2.06 2.06-.94-2.06-.94-.94-2.06-.94 2.06-2.06.94zm-11 1L8.5 8.5l.94-2.06 2.06-.94-2.06-.94L8.5 2.5l-.94 2.06-2.06.94zm10 10l.94 2.06.94-2.06 2.06-.94-2.06-.94-.94-2.06-.94 2.06-2.06.94z\"/><path d=\"M17.41 7.96l-1.37-1.37c-.4-.4-.92-.59-1.43-.59-.52 0-1.04.2-1.43.59L10.3 9.45l-7.72 7.72c-.78.78-.78 2.05 0 2.83L4 21.41c.39.39.9.59 1.41.59.51 0 1.02-.2 1.41-.59l7.78-7.78 2.81-2.81c.8-.78.8-2.07 0-2.86zM5.41 20L4 18.59l7.72-7.72 1.47 1.35L5.41 20z\"/>\n",
              "  </svg>\n",
              "      </button>\n",
              "      \n",
              "  <style>\n",
              "    .colab-df-container {\n",
              "      display:flex;\n",
              "      flex-wrap:wrap;\n",
              "      gap: 12px;\n",
              "    }\n",
              "\n",
              "    .colab-df-convert {\n",
              "      background-color: #E8F0FE;\n",
              "      border: none;\n",
              "      border-radius: 50%;\n",
              "      cursor: pointer;\n",
              "      display: none;\n",
              "      fill: #1967D2;\n",
              "      height: 32px;\n",
              "      padding: 0 0 0 0;\n",
              "      width: 32px;\n",
              "    }\n",
              "\n",
              "    .colab-df-convert:hover {\n",
              "      background-color: #E2EBFA;\n",
              "      box-shadow: 0px 1px 2px rgba(60, 64, 67, 0.3), 0px 1px 3px 1px rgba(60, 64, 67, 0.15);\n",
              "      fill: #174EA6;\n",
              "    }\n",
              "\n",
              "    [theme=dark] .colab-df-convert {\n",
              "      background-color: #3B4455;\n",
              "      fill: #D2E3FC;\n",
              "    }\n",
              "\n",
              "    [theme=dark] .colab-df-convert:hover {\n",
              "      background-color: #434B5C;\n",
              "      box-shadow: 0px 1px 3px 1px rgba(0, 0, 0, 0.15);\n",
              "      filter: drop-shadow(0px 1px 2px rgba(0, 0, 0, 0.3));\n",
              "      fill: #FFFFFF;\n",
              "    }\n",
              "  </style>\n",
              "\n",
              "      <script>\n",
              "        const buttonEl =\n",
              "          document.querySelector('#df-64d21f18-ae53-4bc7-8c8f-5a02b5f0e4de button.colab-df-convert');\n",
              "        buttonEl.style.display =\n",
              "          google.colab.kernel.accessAllowed ? 'block' : 'none';\n",
              "\n",
              "        async function convertToInteractive(key) {\n",
              "          const element = document.querySelector('#df-64d21f18-ae53-4bc7-8c8f-5a02b5f0e4de');\n",
              "          const dataTable =\n",
              "            await google.colab.kernel.invokeFunction('convertToInteractive',\n",
              "                                                     [key], {});\n",
              "          if (!dataTable) return;\n",
              "\n",
              "          const docLinkHtml = 'Like what you see? Visit the ' +\n",
              "            '<a target=\"_blank\" href=https://colab.research.google.com/notebooks/data_table.ipynb>data table notebook</a>'\n",
              "            + ' to learn more about interactive tables.';\n",
              "          element.innerHTML = '';\n",
              "          dataTable['output_type'] = 'display_data';\n",
              "          await google.colab.output.renderOutput(dataTable, element);\n",
              "          const docLink = document.createElement('div');\n",
              "          docLink.innerHTML = docLinkHtml;\n",
              "          element.appendChild(docLink);\n",
              "        }\n",
              "      </script>\n",
              "    </div>\n",
              "  </div>\n",
              "  "
            ]
          },
          "metadata": {},
          "execution_count": 7
        }
      ]
    },
    {
      "cell_type": "markdown",
      "metadata": {
        "id": "C5pNhJFpiQzO"
      },
      "source": [
        "### 3-3.파생정보 추가"
      ]
    },
    {
      "cell_type": "markdown",
      "metadata": {
        "id": "2Vu0LP6JKcCq"
      },
      "source": [
        "Series의 str Accessor 사용\n",
        "- 세부 내용 : https://pandas.pydata.org/docs/reference/series.html#string-handling\n",
        "- Series.str.split() : whitespace(공백, 탭 등)을 기준으로 문자열 분리\n",
        "    - 예)  ‘서울특별시 종로구 …’  => [서울특별시, 종로구, …]\n",
        "- Series.str[0] : Series가 여러 개의 요소가 있는 경우 그 첫 번째 요소\n",
        "\n",
        "Series.unique() : 중복 데이터의 제거 후 배열로 반환, NA Value가 있다면 포함"
      ]
    },
    {
      "cell_type": "code",
      "metadata": {
        "id": "DrVIGYRM1JaA"
      },
      "source": [
        "# [4-8] bread 의 '소재지전체주소' 중 시/도에 대한 정보(목록)를 추출합니다.\n"
      ],
      "execution_count": null,
      "outputs": []
    },
    {
      "cell_type": "markdown",
      "metadata": {
        "id": "TWMX4NJ_iKYC"
      },
      "source": [
        "Boolean indexing 사용하여 조건에 맞는 데이터 가져오기\n",
        "- DataFrame.loc[조건, :]\n",
        "- DataFrame[조건]\n",
        "- 조건은 boolean dtype이어야 하며 행의 수와 같아야 함\n",
        "- 복잡한 조건 작성\n",
        "    - (조건1) | (조건2)  : 조건1 또는 조건2를 만족하는 데이터\n",
        "    - (조건1) & (조건2)  : 조건1, 조건2 모두 만족하는 데이터\n",
        "    - ~(조건) : 조건이 거짓인 데이터"
      ]
    },
    {
      "cell_type": "code",
      "metadata": {
        "id": "QjUC8IQd2gh9"
      },
      "source": [
        "# [4-9] bread에서 소재지전체주소의 처음이 '서울특별시'이면서,\n",
        "# '업태구분명'이 '제과점영업'인 것만 추출합니다.\n"
      ],
      "execution_count": null,
      "outputs": []
    },
    {
      "cell_type": "code",
      "metadata": {
        "id": "VkkHc0avn-HA"
      },
      "source": [
        "# [4-10] df, bread의 행/열 정보를 확인합니다.\n"
      ],
      "execution_count": null,
      "outputs": []
    },
    {
      "cell_type": "markdown",
      "metadata": {
        "id": "KZUf5g2unPVr"
      },
      "source": [
        "DataFrame에 새로운 컬럼 추가\n",
        "- DataFrame['컬럼명'] = 데이터\n",
        "- 데이터의 개수는 기존 다른 컬럼의 행 개수와 같아야 함\n"
      ]
    },
    {
      "cell_type": "code",
      "metadata": {
        "id": "ZuLvxhBx-PHc",
        "colab": {
          "base_uri": "https://localhost:8080/"
        },
        "outputId": "33b86fed-8020-4026-8363-26bbc265680a"
      },
      "source": [
        "# [4-11] bread의 '소재지전체주소'에서 '구명', '동명'을 추출하여\n",
        "# bread에 새로운 컬럼으로 등록합니다.\n",
        "\n",
        "# bread의 컬럼명을 출력해 '구명', '동명'이 추가되었는지 확인함\n"
      ],
      "execution_count": null,
      "outputs": [
        {
          "output_type": "execute_result",
          "data": {
            "text/plain": [
              "Index(['인허가일자', '상세영업상태코드', '폐업일자', '소재지전체주소', '사업장명', '업태구분명', '구명', '동명'], dtype='object')"
            ]
          },
          "metadata": {},
          "execution_count": 10
        }
      ]
    },
    {
      "cell_type": "markdown",
      "metadata": {
        "id": "4UnyhdKdQdez"
      },
      "source": [
        "Accessor 연습 LAB : https://colab.research.google.com/drive/1tkrP-1VWZYZ1Zl_9KrlkPBpVHWBMUlCy\n",
        "\n",
        "Accessor 연습 Teacher : https://colab.research.google.com/drive/1Szy5ZjK7hM6E7utgPIbAgwDAxcWWpwO5"
      ]
    },
    {
      "cell_type": "markdown",
      "metadata": {
        "id": "CY1HsSipiY6E"
      },
      "source": [
        "### 3-4.결측치 확인/처리"
      ]
    },
    {
      "cell_type": "markdown",
      "metadata": {
        "id": "c4ckyJrAp6Fj"
      },
      "source": [
        "결측치는 값이 없음을 나타냄\n",
        "- NaN, NaT, None 등으로 표기되며, NA Value, Missing Value 라고 함\n",
        "\n",
        "결측치 확인\n",
        "   - DataFrame.isna() : 결측치에 대해 True, 아니면 False\n",
        "   - DataFrame.isnull() : DataFrame.isna()와 동일함\n",
        "   - DataFrame.notna() : 결측치가 아닌 것에 대해 True, 결측치면 False\n",
        "   - DataFrame.notnull() : DataFrame.isnull()과 동일함\n",
        "   - Series에도 결측치 확인을 위한 isna() ~ notnull()의 메서드 있음\n",
        "\n",
        "DataFrame.isna().sum() : 결측치에 대해 컬럼별 개수"
      ]
    },
    {
      "cell_type": "code",
      "metadata": {
        "id": "U43ceH1Dz8M3"
      },
      "source": [
        "# [4-12] bread2의 각 컬럼별 결측치의 개수를 확인합니다.\n"
      ],
      "execution_count": null,
      "outputs": []
    },
    {
      "cell_type": "markdown",
      "metadata": {
        "id": "-7JVzPd8q7Cf"
      },
      "source": [
        "결측치 채우기\n",
        "- DataFrame.fillna(값) : 결측치를 특정 값으로 채움\n",
        "\n",
        "데이터 타입 변경 방법\n",
        "- Series.astype(타입)\n",
        "- 타입 표시 방법 : 'int', 'int32', 'int64', 'float', 'str', 'category',  ... 등의 문자열로 지정\n",
        "- np.int16, np.float32, np.datetime64, ... 등의 numpy 타입으로 지정\n",
        "- numpy 타입으로 지정하기 위해서는  ```import numpy as np```  를 먼저 실행하여야 함"
      ]
    },
    {
      "cell_type": "code",
      "source": [
        "import pandas as pd\n",
        "df = pd.read_csv('./data_03/bread_data.csv',\n",
        "                 encoding='cp949',\n",
        "                 dtype={'건물소유구분명': object, '전통업소지정번호': object})\n",
        "bread = df[['인허가일자', '상세영업상태코드', '폐업일자', '소재지전체주소', '사업장명', '업태구분명']]\n",
        "condition1 = bread['소재지전체주소'].str.split().str[0] == '서울특별시'\n",
        "condition2 = bread['업태구분명'] == '제과점영업'\n",
        "bread = bread[condition1 & condition2]\n",
        "temp = bread['소재지전체주소'].str.split()\n",
        "bread['구명'] = temp.str[1]\n",
        "bread['동명'] = temp.str[2]"
      ],
      "metadata": {
        "id": "GH1JVuVOdhAZ"
      },
      "execution_count": null,
      "outputs": []
    },
    {
      "cell_type": "code",
      "metadata": {
        "id": "Pp5DCyBGzcn8",
        "colab": {
          "base_uri": "https://localhost:8080/"
        },
        "outputId": "7cf565e4-6eea-4b19-b5c9-7a7a0d2b9425"
      },
      "source": [
        "# [4-13] bread의 '폐업일자'에 대해 결측치인 것을 0.0으로 채우기 한 뒤,\n",
        "# 데이터 타입을 'int64'로 수정합니다.\n"
      ],
      "execution_count": null,
      "outputs": [
        {
          "output_type": "execute_result",
          "data": {
            "text/plain": [
              "인허가일자        int64\n",
              "상세영업상태코드     int64\n",
              "폐업일자         int64\n",
              "소재지전체주소     object\n",
              "사업장명        object\n",
              "업태구분명       object\n",
              "구명          object\n",
              "동명          object\n",
              "dtype: object"
            ]
          },
          "metadata": {},
          "execution_count": 12
        }
      ]
    },
    {
      "cell_type": "code",
      "metadata": {
        "id": "LR-C-Ur42_dZ"
      },
      "source": [
        "# [4-14] bread의 전체 결측치의 개수를 하나의 정수로 확인합니다.\n"
      ],
      "execution_count": null,
      "outputs": []
    },
    {
      "cell_type": "markdown",
      "metadata": {
        "id": "Dj4-Ng_lolJD"
      },
      "source": [
        "DataFrame에서 컬럼을 제거 함\n",
        "- DataFrame.drop(columns=['컬럼명1', '컬럼명2', ...])\n",
        "- DataFrame.drop(['컬럼명1', '컬럼명2', ...], axis=1)\n"
      ]
    },
    {
      "cell_type": "code",
      "metadata": {
        "id": "4keobMbc05XK"
      },
      "source": [
        "# [4-15] bread에서 '소재지전체주소' 및 '업태구분명' 컬럼을 제거한 뒤, shape을 확인합니다.\n"
      ],
      "execution_count": null,
      "outputs": []
    },
    {
      "cell_type": "code",
      "metadata": {
        "id": "oWv8_0z--t17"
      },
      "source": [
        "# [4-16] bread의 첫 3개 행을 확인합니다.\n"
      ],
      "execution_count": null,
      "outputs": []
    },
    {
      "cell_type": "markdown",
      "metadata": {
        "id": "JH8JXI15sgiV"
      },
      "source": [
        "컬럼이름 변경하기\n",
        "- DataFrame.rename(columns={'변경전이름':'변경후이름', ...})\n",
        "- DataFrame.rename({'변경전이름':'변경후이름', ...}, axis=1)"
      ]
    },
    {
      "cell_type": "code",
      "metadata": {
        "id": "tAvVrHEUAQHk"
      },
      "source": [
        "# [4-17] bread의 '상세영업상태코드'라는 컬럼명을 '상태코드'로 변경한 뒤,\n",
        "# 첫 2개의 행을 확인합니다.\n"
      ],
      "execution_count": null,
      "outputs": []
    },
    {
      "cell_type": "markdown",
      "metadata": {
        "id": "XgR_HcEesyNI"
      },
      "source": [
        "CSV 파일로 저장하기\n",
        "- DataFrame.to_csv('파일이름', index=False) : index를 제외한 내용을 csv 파일로 저장함"
      ]
    },
    {
      "cell_type": "code",
      "metadata": {
        "id": "gK2qnxEz_dqr"
      },
      "source": [
        "# [4-18] bread를 'bread_after.csv' 파일로 index를 제외하고 저장합니다.\n"
      ],
      "execution_count": null,
      "outputs": []
    },
    {
      "cell_type": "code",
      "metadata": {
        "colab": {
          "base_uri": "https://localhost:8080/",
          "height": 112
        },
        "id": "giDEMv36jc98",
        "outputId": "c064f097-af4e-46ad-98b7-98b6060d0ffb"
      },
      "source": [
        "# [4-19] 'bread_after.csv' 파일을 읽어 bread라는 이름으로 저장합니다.\n"
      ],
      "execution_count": null,
      "outputs": [
        {
          "output_type": "execute_result",
          "data": {
            "text/html": [
              "<div>\n",
              "<style scoped>\n",
              "    .dataframe tbody tr th:only-of-type {\n",
              "        vertical-align: middle;\n",
              "    }\n",
              "\n",
              "    .dataframe tbody tr th {\n",
              "        vertical-align: top;\n",
              "    }\n",
              "\n",
              "    .dataframe thead th {\n",
              "        text-align: right;\n",
              "    }\n",
              "</style>\n",
              "<table border=\"1\" class=\"dataframe\">\n",
              "  <thead>\n",
              "    <tr style=\"text-align: right;\">\n",
              "      <th></th>\n",
              "      <th>인허가일자</th>\n",
              "      <th>상태코드</th>\n",
              "      <th>폐업일자</th>\n",
              "      <th>사업장명</th>\n",
              "      <th>시군구명</th>\n",
              "      <th>동리명</th>\n",
              "    </tr>\n",
              "  </thead>\n",
              "  <tbody>\n",
              "    <tr>\n",
              "      <th>0</th>\n",
              "      <td>20010713</td>\n",
              "      <td>1</td>\n",
              "      <td>0</td>\n",
              "      <td>파리바게뜨(역촌역점)</td>\n",
              "      <td>은평구</td>\n",
              "      <td>대조동</td>\n",
              "    </tr>\n",
              "    <tr>\n",
              "      <th>1</th>\n",
              "      <td>20030507</td>\n",
              "      <td>1</td>\n",
              "      <td>0</td>\n",
              "      <td>파리바게뜨</td>\n",
              "      <td>은평구</td>\n",
              "      <td>갈현동</td>\n",
              "    </tr>\n",
              "  </tbody>\n",
              "</table>\n",
              "</div>"
            ],
            "text/plain": [
              "      인허가일자  상태코드  폐업일자         사업장명 시군구명  동리명\n",
              "0  20010713     1     0  파리바게뜨(역촌역점)  은평구  대조동\n",
              "1  20030507     1     0        파리바게뜨  은평구  갈현동"
            ]
          },
          "metadata": {},
          "execution_count": 42
        }
      ]
    },
    {
      "cell_type": "markdown",
      "metadata": {
        "id": "CLo_yCXIiieZ"
      },
      "source": [
        "### 3-5.설립년도,폐업년도 분석"
      ]
    },
    {
      "cell_type": "markdown",
      "metadata": {
        "id": "5AIin-GjtmS_"
      },
      "source": [
        "Series의 연산\n",
        "- Series는 스칼라값과 연산 시 각 값과 스칼라 값의 연산이 이루어짐\n",
        "- 결과는 Series가 됨"
      ]
    },
    {
      "cell_type": "code",
      "metadata": {
        "id": "U7-8wzAyA4vI"
      },
      "source": [
        "# [4-20] bread에 '설립년도' 및 '폐업년도' 컬럼을 추가합니다.\n",
        "# '인허가일자'//10000, '폐업일자 // 10000 을 사용하여 구합니다.\n",
        "# 두 개의 컬럼이 추가된 bread의 첫 2개 행을 확인합니다.\n"
      ],
      "execution_count": null,
      "outputs": []
    },
    {
      "cell_type": "code",
      "metadata": {
        "id": "2bwhzDc-BcWO"
      },
      "source": [
        "# [4-21] bread에 '영업기간' 컬럼을 추가합니다\n",
        "# '영업기간'은 '상태코드'가 1(=영업)인 경우 2021 - 설립년도 -1\n",
        "# '상태코드'가 2(=폐업)인 경우 폐업년도 - 설립년도 + 1로 계산합니다.\n"
      ],
      "execution_count": null,
      "outputs": []
    },
    {
      "cell_type": "markdown",
      "metadata": {
        "id": "v9RJpS9sxOuD"
      },
      "source": [
        "Series를 DataFrame으로 만들기\n",
        "- pd.DataFrame(Series)\n",
        "- Series.to_frame()\n",
        "\n",
        "DataFrame의 index 정렬하기\n",
        "- DataFrame.sort_index() : 오름차순 정렬\n",
        "- DataFrame.sort_index(ascending=False) : 내림차순 정렬\n",
        "\n",
        "DataFrame의 전치행렬 구하기\n",
        "- DataFrame.T\n"
      ]
    },
    {
      "cell_type": "code",
      "metadata": {
        "id": "BH_40oHlBuTr"
      },
      "source": [
        "# [4-22] bread의 '설립년도'별 데이터 수를 구해 년도별로 정렬하고,\n",
        "# DataFrame으로 변경하여 전치행렬을 구해 temp1 이름을 부여해 출력합니다.\n"
      ],
      "execution_count": null,
      "outputs": []
    },
    {
      "cell_type": "code",
      "source": [
        "# 버전에 따른 추가내용 - 만일 설립년도를 행의 index로 사용하고 싶다면  temp1 출력전에 index를 수정해 주어야 합니다.\n",
        "\n",
        "temp1.index.name = ''\n",
        "temp1.index =['설립년도']\n",
        "temp1"
      ],
      "metadata": {
        "id": "v7eNlPbxJIYy"
      },
      "execution_count": null,
      "outputs": []
    },
    {
      "cell_type": "code",
      "metadata": {
        "id": "wZNramAiBuQo"
      },
      "source": [
        "# [4-23] bread의 '폐업년도'별 데이터 수를 구해 년도별로 정렬하고,\n",
        "# DataFrame으로 변경하여 전치행렬을 구해 temp2 이름을 부여해 출력합니다.\n"
      ],
      "execution_count": null,
      "outputs": []
    },
    {
      "cell_type": "markdown",
      "metadata": {
        "id": "apWXe0xSx_b2"
      },
      "source": [
        "여러 개의 데이터프레임 합치기\n",
        "- pd.concat([DataFrame1, DataFrame2, ...])\n",
        "- DataFrame의 목록에 있는 순서대로 위 -> 아래 방향으로 합쳐 한 개 DataFrame 반환"
      ]
    },
    {
      "cell_type": "code",
      "metadata": {
        "id": "QM5qgWAKDS06"
      },
      "source": [
        "# [4-23] temp1, temp2를 합쳐서 temp라고 이름 붙입니다.\n"
      ],
      "execution_count": null,
      "outputs": []
    },
    {
      "cell_type": "code",
      "metadata": {
        "id": "Aq-N8bNwEHbW"
      },
      "source": [
        "# [4-24] temp의 결측치를 0으로 채우기 한 뒤, 'int64'로 변경합니다.\n"
      ],
      "execution_count": null,
      "outputs": []
    },
    {
      "cell_type": "markdown",
      "source": [
        "#### 그래프 그리기"
      ],
      "metadata": {
        "id": "PxFSyM6W2I8h"
      }
    },
    {
      "cell_type": "code",
      "metadata": {
        "colab": {
          "base_uri": "https://localhost:8080/",
          "height": 339
        },
        "id": "a_LS8p-wKw4J",
        "outputId": "720fc29c-60b1-41e0-948f-bcee7cdd8587"
      },
      "source": [
        "# [4-25] 년도별 제과정 개업, 폐업에 대한 선 그래프 그리기\n",
        "import koreanize_matplotlib\n",
        "\n"
      ],
      "execution_count": null,
      "outputs": [
        {
          "output_type": "display_data",
          "data": {
            "image/png": "[encoded data removed]",
            "text/plain": [
              "<Figure size 720x360 with 1 Axes>"
            ]
          },
          "metadata": {
            "needs_background": "light"
          }
        }
      ]
    },
    {
      "cell_type": "markdown",
      "metadata": {
        "id": "Cu0LI4Rzw7H_"
      },
      "source": [
        "### 3-6.평균 영업기간 분석"
      ]
    },
    {
      "cell_type": "markdown",
      "metadata": {
        "id": "qGmftF_Y3tre"
      },
      "source": [
        "특정 문자열이 포함된 행 가져오기\n",
        "- Series.str.contains(문자열) : 문자열이 포함된 행은 True, 아니면 False인 Series 반환\n",
        "- DataFrame.loc[조건, :] : 조건이 True인 행만 가져오기"
      ]
    },
    {
      "cell_type": "code",
      "metadata": {
        "id": "cGxCGLiTFJ6H"
      },
      "source": [
        "# [4-26] bread에서 '사업장명' 컬럼을 사용하여\n",
        "# '파리바게트', '파리바게뜨' 이름인 곳을 뽑아 paris로 이름 붙입니다.\n"
      ],
      "execution_count": null,
      "outputs": []
    },
    {
      "cell_type": "code",
      "metadata": {
        "id": "7Jct79HKFfp7"
      },
      "source": [
        "# [4-27] bread에서 '사업장명' 컬럼을 사용하여\n",
        "# '뚜레쥬르' 이름인 곳을 뽑아 tous로 이름 붙입니다.\n"
      ],
      "execution_count": null,
      "outputs": []
    },
    {
      "cell_type": "markdown",
      "metadata": {
        "id": "ADq6kuxE4jgz"
      },
      "source": [
        "통계값 알아보기\n",
        "- Series.count() : 개수\n",
        "- Series.sum() : 합계\n",
        "- Series.mean() : 평균\n",
        "- Series.std() : 표준편차\n",
        "- Series.var() : 분산\n",
        "- Series.median() : 중앙값\n",
        "- Series.mode() : 최빈값\n",
        "- Series.cumsum() : 누적합\n",
        "- Series.quantile([0.25, 05, 0.75]) : 분위수"
      ]
    },
    {
      "cell_type": "code",
      "metadata": {
        "id": "KLrd5-7PE7FE"
      },
      "source": [
        "# [4-28] 설립년도가 2000년 이후이면서 영업 중인 곳의 영업기간 정보를 구합니다.\n",
        "# paris, tous에 대해 각각 구해서 temp1, temp2로 이름 붙입니다.\n",
        "\n",
        "# temp1, temp2의 평균을 구해 이름을 comp로 하는 DataFrame으로 만듭니다.\n",
        "# index => ['파리바게트', '뚜레쥬르'], columns => ['영업']\n"
      ],
      "execution_count": null,
      "outputs": []
    },
    {
      "cell_type": "code",
      "metadata": {
        "id": "-qB26SpAGtYA"
      },
      "source": [
        "# [4-29] 설립년도 2000년 이후이면서 폐업한 곳의 영업기간 정보를 구합니다.\n",
        "# paris, tous에 대해 각각 구해서 temp1, temp2로 이름 붙입니다.\n",
        "\n",
        "# temp1, temp2의 평균을 구해 comp에 '폐업' 컬럼으로 추가합니다.\n"
      ],
      "execution_count": null,
      "outputs": []
    },
    {
      "cell_type": "code",
      "metadata": {
        "id": "iTrYtbrdG0uY"
      },
      "source": [
        "# [4-30] 파리바게트, 뚜레쥬르가 아닌 다른 사업장에 대한 정보를 찾아 other로 이름 붙입니다.\n",
        "\n",
        "# other의 행, 열 정보를 확인합니다.\n"
      ],
      "execution_count": null,
      "outputs": []
    },
    {
      "cell_type": "code",
      "metadata": {
        "id": "ox4gRtkWHbcx"
      },
      "source": [
        "# [4-31] other의 2000년 이후 설립된 곳의 영업, 폐업 사업장을 구한 뒤\n",
        "# temp1, temp2 이름을 붙입니다.\n",
        "\n",
        "\n",
        "# temp1, temp2의 평균을 구해 comp 에 '나머지' 행으로 추가합니다.\n",
        "\n",
        "# DataFrame.append 는 pandas 버전이 높아져서 pd.concat()을 사용해야 합니다.\n",
        "comp = pd.concat([comp, temp])  # 를 사용합니다."
      ],
      "execution_count": null,
      "outputs": []
    },
    {
      "cell_type": "markdown",
      "metadata": {
        "id": "pn_q-oJ3xXwO"
      },
      "source": [
        "### 3-7.폐업비율 분석\n"
      ]
    },
    {
      "cell_type": "code",
      "metadata": {
        "id": "HbMsZGoIIeQq"
      },
      "source": [
        "# [4-32] paris에서 영업 중인 곳에 대해 '시군구명'별 개수를 구해 DataFrame으로 변환하고\n",
        "# temp로 이름 붙인 뒤, 첫 2개 행을 출력한다\n"
      ],
      "execution_count": null,
      "outputs": []
    },
    {
      "cell_type": "markdown",
      "metadata": {
        "id": "5MANJnlK84Nf"
      },
      "source": [
        " DataFrame.reset_index()\n",
        " - index의 내용을 columns로 이동함"
      ]
    },
    {
      "cell_type": "code",
      "metadata": {
        "id": "GAVmZxYUHlCy"
      },
      "source": [
        "# [4-33] paris에서 폐업한 곳에 대해 '구명'별 개수를 구해\n",
        "# temp에 '폐업'이라는 컬럼으로 추가하고,\n",
        "# reset_index()를 사용하여 index를 columns로 사용되도록 한다. (temp2로 다시 저장)\n",
        "\n",
        "\n"
      ],
      "execution_count": null,
      "outputs": []
    },
    {
      "cell_type": "markdown",
      "metadata": {
        "id": "EUc-HlsE-CQo"
      },
      "source": [
        "DataFrame의 모든 컬럼이름 변경\n",
        "- DataFrame.columns = [컬럼이름1, 컬럼이름2, ...]\n",
        "- 기존 컬럼의 개수와 같아야 함"
      ]
    },
    {
      "cell_type": "code",
      "metadata": {
        "id": "I7GmFjSBHhgJ"
      },
      "source": [
        "# [4-34] temp2의 컬럼명을 ['구', '영업', '폐업']으로 변경한다\n",
        "\n",
        "\n",
        "# temp2의 첫 2개 행을 출력한다\n"
      ],
      "execution_count": null,
      "outputs": []
    },
    {
      "cell_type": "code",
      "metadata": {
        "id": "3E-dbScjJ-ww"
      },
      "source": [
        "# [4-35] temp2에 '폐업비율' 컬럼을 추가한다\n",
        "# 폐업비율 = 폐업 / (폐업 + 영업) * 100\n",
        "\n",
        "# temp2의 첫 3개 행을 출력한다\n"
      ],
      "execution_count": null,
      "outputs": []
    },
    {
      "cell_type": "markdown",
      "metadata": {
        "id": "4X0k7Gx5-qZ1"
      },
      "source": [
        "데이터 정렬\n",
        "- DataFrame.sort_values('컬럼이름') : 주어진 컬럼을 기준으로 데이터를 오름차순 정렬\n",
        "- DataFrame.sort_values('컬럼이름', ascending=False) : 내림차순 정렬\n",
        "- DataFrame.sort_values(['컬럼이름1', '컬럼이름2'..]) : 다차 정렬"
      ]
    },
    {
      "cell_type": "code",
      "metadata": {
        "id": "4x-8AVRZKLHP"
      },
      "source": [
        "# [4-36] temp2를 폐업비율을 기준으로 오름차순 정렬하여 TOP5를 출력한다\n",
        "# 폐업비율이 가장 작은 곳은 은평구, 동대문구 ... 등으로 정보를 찾게 됨\n"
      ],
      "execution_count": null,
      "outputs": []
    },
    {
      "cell_type": "markdown",
      "metadata": {
        "id": "CVFNi4qovWnK"
      },
      "source": [
        "Series.quantile([rate1, rate2, ...])\n",
        "- 데이터를 순서대로 나열했을 때, 특정 비율 위치의 값을 구함\n",
        "- 0 : 가장 작은 것의 값\n",
        "- 1 : 가장 큰 것의 값\n",
        "\n",
        "Series.quantile([0.3, 0.9])\n",
        "- 0.3 : 하위 30% 위치\n",
        "- 0.9 : 상위 10% 위치"
      ]
    },
    {
      "cell_type": "code",
      "metadata": {
        "id": "8hzcNoZ2u81e"
      },
      "source": [
        "# [4-37] temp에서 폐업비율 하위 30%인 곳을 구하시오.\n"
      ],
      "execution_count": null,
      "outputs": []
    },
    {
      "cell_type": "code",
      "metadata": {
        "id": "VPHFFnl_vPyo"
      },
      "source": [
        "# [4-38] temp에서 폐업비율 상위 20%인 곳을 구하시오.\n"
      ],
      "execution_count": null,
      "outputs": []
    },
    {
      "cell_type": "markdown",
      "metadata": {
        "id": "bVkukwldi3Dd"
      },
      "source": [
        "### 3-8.시각화"
      ]
    },
    {
      "cell_type": "code",
      "source": [
        "## 그래프만 그리는 경우 목차에서 1, 2 번 + DataFrame 만들기 수행하신 뒤 다음을 수행하시면 됩니다."
      ],
      "metadata": {
        "id": "_6wEnrdWNp_9"
      },
      "execution_count": null,
      "outputs": []
    },
    {
      "cell_type": "code",
      "source": [
        "# [4-39] 파리바게트의 구별 영업, 폐점장 수 구하기\n",
        "paris = bread.loc[bread['사업장명'].str.contains('파리바게'), :]\n",
        "data = pd.DataFrame()\n",
        "data['영업'] = paris.loc[paris['상태코드']==1, '구명'].value_counts().to_frame()\n",
        "data['폐업'] = paris.loc[paris['상태코드']==2, '구명'].value_counts()\n",
        "data.head()"
      ],
      "metadata": {
        "id": "rGkGGl3fNrPw"
      },
      "execution_count": null,
      "outputs": []
    },
    {
      "cell_type": "code",
      "metadata": {
        "colab": {
          "base_uri": "https://localhost:8080/",
          "height": 365
        },
        "id": "_k0URc4E_WnS",
        "outputId": "325acf3c-8bc7-4945-c697-4d0f76a4db6c"
      },
      "source": [
        "# [4-40] 누적 bar 그래프 그리기\n",
        "import koreanize_matplotlib\n",
        "\n"
      ],
      "execution_count": null,
      "outputs": [
        {
          "output_type": "display_data",
          "data": {
            "image/png": "[encoded data removed]",
            "text/plain": [
              "<Figure size 720x360 with 1 Axes>"
            ]
          },
          "metadata": {
            "needs_background": "light"
          }
        }
      ]
    },
    {
      "cell_type": "code",
      "metadata": {
        "colab": {
          "base_uri": "https://localhost:8080/"
        },
        "id": "aXWtEa3ye7Zo",
        "outputId": "84e3456d-3bba-4617-f097-54e3bbbd04ca"
      },
      "source": [
        "# [4-41] bread를 사용하여 은평구에서 영업 중인 동별 빵집 개수를 구해 봅니다\n"
      ],
      "execution_count": null,
      "outputs": [
        {
          "output_type": "execute_result",
          "data": {
            "text/plain": [
              "진관동    30\n",
              "응암동    24\n",
              "대조동    20\n",
              "신사동    17\n",
              "불광동    17\n",
              "역촌동    16\n",
              "갈현동    15\n",
              "녹번동    12\n",
              "구산동    11\n",
              "증산동     8\n",
              "수색동     3\n",
              "Name: 동리명, dtype: int64"
            ]
          },
          "metadata": {},
          "execution_count": 116
        }
      ]
    },
    {
      "cell_type": "code",
      "metadata": {
        "id": "guXvCwJijHie",
        "colab": {
          "base_uri": "https://localhost:8080/",
          "height": 284
        },
        "outputId": "30a5bf41-6010-4c06-d444-9a1a22244751"
      },
      "source": [
        "# [4-42] 은평구의 동별 빵집 개수를 그래프로 표시해 봅니다.\n"
      ],
      "execution_count": null,
      "outputs": [
        {
          "output_type": "display_data",
          "data": {
            "image/png": "[encoded data removed]",
            "text/plain": [
              "<Figure size 576x288 with 1 Axes>"
            ]
          },
          "metadata": {
            "needs_background": "light"
          }
        }
      ]
    },
    {
      "cell_type": "code",
      "metadata": {
        "id": "asMh8F-oKTii",
        "colab": {
          "base_uri": "https://localhost:8080/",
          "height": 266
        },
        "outputId": "714ddaa3-9138-40a8-dbcf-8416f473f9db"
      },
      "source": [
        "# [4-43] 은평구의 동별 빵집 비율을 원행 그래프로 표시해 봅니다.\n",
        "\n"
      ],
      "execution_count": null,
      "outputs": [
        {
          "output_type": "display_data",
          "data": {
            "image/png": "[encoded data removed]",
            "text/plain": [
              "<Figure size 432x288 with 1 Axes>"
            ]
          },
          "metadata": {}
        }
      ]
    },
    {
      "cell_type": "code",
      "metadata": {
        "id": "BCUWPk11KjAr"
      },
      "source": [
        "\"파리바게뜨, 은평구 성공적!\""
      ],
      "execution_count": null,
      "outputs": []
    }
  ]
}